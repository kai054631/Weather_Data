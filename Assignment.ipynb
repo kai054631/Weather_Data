{
  "nbformat": 4,
  "nbformat_minor": 0,
  "metadata": {
    "colab": {
      "provenance": [],
      "include_colab_link": true
    },
    "kernelspec": {
      "name": "python3",
      "display_name": "Python 3"
    },
    "language_info": {
      "name": "python"
    }
  },
  "cells": [
    {
      "cell_type": "markdown",
      "metadata": {
        "id": "view-in-github",
        "colab_type": "text"
      },
      "source": [
        "<a href=\"https://colab.research.google.com/github/kai054631/Weather_Data/blob/main/Assignment.ipynb\" target=\"_parent\"><img src=\"https://colab.research.google.com/assets/colab-badge.svg\" alt=\"Open In Colab\"/></a>"
      ]
    },
    {
      "cell_type": "code",
      "execution_count": 1,
      "metadata": {
        "id": "0OnGl-Z2A0EW"
      },
      "outputs": [],
      "source": [
        "from pandas import read_csv\n",
        "from sklearn.model_selection import train_test_split as split\n",
        "from sklearn.model_selection import KFold, cross_val_score\n",
        "\n",
        "from sklearn.linear_model import LogisticRegression as LR\n",
        "from sklearn.neighbors import KNeighborsClassifier as KNN\n",
        "from sklearn.tree import DecisionTreeClassifier as DTC\n",
        "from sklearn.ensemble import RandomForestClassifier as RFC\n",
        "from sklearn.ensemble import GradientBoostingClassifier as GBC\n",
        "from sklearn.neural_network import MLPClassifier as MLP\n",
        "from sklearn.naive_bayes import GaussianNB as GNB\n",
        "from sklearn.decomposition import PCA\n",
        "from sklearn.svm import SVC\n",
        "\n",
        "from sklearn.preprocessing import StandardScaler, MinMaxScaler, RobustScaler"
      ]
    },
    {
      "cell_type": "markdown",
      "source": [
        "Read dataset from github and show frist 5 rows"
      ],
      "metadata": {
        "id": "iqLGsPFLWOWP"
      }
    },
    {
      "cell_type": "code",
      "source": [
        "df = read_csv(\"https://raw.githubusercontent.com/Des282/Dataset/refs/heads/main/seattle-weather.csv\")#store and read\n",
        "df.head()"
      ],
      "metadata": {
        "colab": {
          "base_uri": "https://localhost:8080/",
          "height": 206
        },
        "id": "nDy1l7UUA4n4",
        "outputId": "7643bb5f-42a3-4398-89de-ce1c08fe7156"
      },
      "execution_count": 2,
      "outputs": [
        {
          "output_type": "execute_result",
          "data": {
            "text/plain": [
              "         date  precipitation  temp_max  temp_min  wind  weather\n",
              "0  2012-01-01            0.0      12.8       5.0   4.7  drizzle\n",
              "1  2012-01-02           10.9      10.6       2.8   4.5     rain\n",
              "2  2012-01-03            0.8      11.7       7.2   2.3     rain\n",
              "3  2012-01-04           20.3      12.2       5.6   4.7     rain\n",
              "4  2012-01-05            1.3       8.9       2.8   6.1     rain"
            ],
            "text/html": [
              "\n",
              "  <div id=\"df-bd59e8b0-f037-485e-a37f-d709f16347ee\" class=\"colab-df-container\">\n",
              "    <div>\n",
              "<style scoped>\n",
              "    .dataframe tbody tr th:only-of-type {\n",
              "        vertical-align: middle;\n",
              "    }\n",
              "\n",
              "    .dataframe tbody tr th {\n",
              "        vertical-align: top;\n",
              "    }\n",
              "\n",
              "    .dataframe thead th {\n",
              "        text-align: right;\n",
              "    }\n",
              "</style>\n",
              "<table border=\"1\" class=\"dataframe\">\n",
              "  <thead>\n",
              "    <tr style=\"text-align: right;\">\n",
              "      <th></th>\n",
              "      <th>date</th>\n",
              "      <th>precipitation</th>\n",
              "      <th>temp_max</th>\n",
              "      <th>temp_min</th>\n",
              "      <th>wind</th>\n",
              "      <th>weather</th>\n",
              "    </tr>\n",
              "  </thead>\n",
              "  <tbody>\n",
              "    <tr>\n",
              "      <th>0</th>\n",
              "      <td>2012-01-01</td>\n",
              "      <td>0.0</td>\n",
              "      <td>12.8</td>\n",
              "      <td>5.0</td>\n",
              "      <td>4.7</td>\n",
              "      <td>drizzle</td>\n",
              "    </tr>\n",
              "    <tr>\n",
              "      <th>1</th>\n",
              "      <td>2012-01-02</td>\n",
              "      <td>10.9</td>\n",
              "      <td>10.6</td>\n",
              "      <td>2.8</td>\n",
              "      <td>4.5</td>\n",
              "      <td>rain</td>\n",
              "    </tr>\n",
              "    <tr>\n",
              "      <th>2</th>\n",
              "      <td>2012-01-03</td>\n",
              "      <td>0.8</td>\n",
              "      <td>11.7</td>\n",
              "      <td>7.2</td>\n",
              "      <td>2.3</td>\n",
              "      <td>rain</td>\n",
              "    </tr>\n",
              "    <tr>\n",
              "      <th>3</th>\n",
              "      <td>2012-01-04</td>\n",
              "      <td>20.3</td>\n",
              "      <td>12.2</td>\n",
              "      <td>5.6</td>\n",
              "      <td>4.7</td>\n",
              "      <td>rain</td>\n",
              "    </tr>\n",
              "    <tr>\n",
              "      <th>4</th>\n",
              "      <td>2012-01-05</td>\n",
              "      <td>1.3</td>\n",
              "      <td>8.9</td>\n",
              "      <td>2.8</td>\n",
              "      <td>6.1</td>\n",
              "      <td>rain</td>\n",
              "    </tr>\n",
              "  </tbody>\n",
              "</table>\n",
              "</div>\n",
              "    <div class=\"colab-df-buttons\">\n",
              "\n",
              "  <div class=\"colab-df-container\">\n",
              "    <button class=\"colab-df-convert\" onclick=\"convertToInteractive('df-bd59e8b0-f037-485e-a37f-d709f16347ee')\"\n",
              "            title=\"Convert this dataframe to an interactive table.\"\n",
              "            style=\"display:none;\">\n",
              "\n",
              "  <svg xmlns=\"http://www.w3.org/2000/svg\" height=\"24px\" viewBox=\"0 -960 960 960\">\n",
              "    <path d=\"M120-120v-720h720v720H120Zm60-500h600v-160H180v160Zm220 220h160v-160H400v160Zm0 220h160v-160H400v160ZM180-400h160v-160H180v160Zm440 0h160v-160H620v160ZM180-180h160v-160H180v160Zm440 0h160v-160H620v160Z\"/>\n",
              "  </svg>\n",
              "    </button>\n",
              "\n",
              "  <style>\n",
              "    .colab-df-container {\n",
              "      display:flex;\n",
              "      gap: 12px;\n",
              "    }\n",
              "\n",
              "    .colab-df-convert {\n",
              "      background-color: #E8F0FE;\n",
              "      border: none;\n",
              "      border-radius: 50%;\n",
              "      cursor: pointer;\n",
              "      display: none;\n",
              "      fill: #1967D2;\n",
              "      height: 32px;\n",
              "      padding: 0 0 0 0;\n",
              "      width: 32px;\n",
              "    }\n",
              "\n",
              "    .colab-df-convert:hover {\n",
              "      background-color: #E2EBFA;\n",
              "      box-shadow: 0px 1px 2px rgba(60, 64, 67, 0.3), 0px 1px 3px 1px rgba(60, 64, 67, 0.15);\n",
              "      fill: #174EA6;\n",
              "    }\n",
              "\n",
              "    .colab-df-buttons div {\n",
              "      margin-bottom: 4px;\n",
              "    }\n",
              "\n",
              "    [theme=dark] .colab-df-convert {\n",
              "      background-color: #3B4455;\n",
              "      fill: #D2E3FC;\n",
              "    }\n",
              "\n",
              "    [theme=dark] .colab-df-convert:hover {\n",
              "      background-color: #434B5C;\n",
              "      box-shadow: 0px 1px 3px 1px rgba(0, 0, 0, 0.15);\n",
              "      filter: drop-shadow(0px 1px 2px rgba(0, 0, 0, 0.3));\n",
              "      fill: #FFFFFF;\n",
              "    }\n",
              "  </style>\n",
              "\n",
              "    <script>\n",
              "      const buttonEl =\n",
              "        document.querySelector('#df-bd59e8b0-f037-485e-a37f-d709f16347ee button.colab-df-convert');\n",
              "      buttonEl.style.display =\n",
              "        google.colab.kernel.accessAllowed ? 'block' : 'none';\n",
              "\n",
              "      async function convertToInteractive(key) {\n",
              "        const element = document.querySelector('#df-bd59e8b0-f037-485e-a37f-d709f16347ee');\n",
              "        const dataTable =\n",
              "          await google.colab.kernel.invokeFunction('convertToInteractive',\n",
              "                                                    [key], {});\n",
              "        if (!dataTable) return;\n",
              "\n",
              "        const docLinkHtml = 'Like what you see? Visit the ' +\n",
              "          '<a target=\"_blank\" href=https://colab.research.google.com/notebooks/data_table.ipynb>data table notebook</a>'\n",
              "          + ' to learn more about interactive tables.';\n",
              "        element.innerHTML = '';\n",
              "        dataTable['output_type'] = 'display_data';\n",
              "        await google.colab.output.renderOutput(dataTable, element);\n",
              "        const docLink = document.createElement('div');\n",
              "        docLink.innerHTML = docLinkHtml;\n",
              "        element.appendChild(docLink);\n",
              "      }\n",
              "    </script>\n",
              "  </div>\n",
              "\n",
              "\n",
              "<div id=\"df-043d365f-c1bf-47a0-a030-a44b99e3fa98\">\n",
              "  <button class=\"colab-df-quickchart\" onclick=\"quickchart('df-043d365f-c1bf-47a0-a030-a44b99e3fa98')\"\n",
              "            title=\"Suggest charts\"\n",
              "            style=\"display:none;\">\n",
              "\n",
              "<svg xmlns=\"http://www.w3.org/2000/svg\" height=\"24px\"viewBox=\"0 0 24 24\"\n",
              "     width=\"24px\">\n",
              "    <g>\n",
              "        <path d=\"M19 3H5c-1.1 0-2 .9-2 2v14c0 1.1.9 2 2 2h14c1.1 0 2-.9 2-2V5c0-1.1-.9-2-2-2zM9 17H7v-7h2v7zm4 0h-2V7h2v10zm4 0h-2v-4h2v4z\"/>\n",
              "    </g>\n",
              "</svg>\n",
              "  </button>\n",
              "\n",
              "<style>\n",
              "  .colab-df-quickchart {\n",
              "      --bg-color: #E8F0FE;\n",
              "      --fill-color: #1967D2;\n",
              "      --hover-bg-color: #E2EBFA;\n",
              "      --hover-fill-color: #174EA6;\n",
              "      --disabled-fill-color: #AAA;\n",
              "      --disabled-bg-color: #DDD;\n",
              "  }\n",
              "\n",
              "  [theme=dark] .colab-df-quickchart {\n",
              "      --bg-color: #3B4455;\n",
              "      --fill-color: #D2E3FC;\n",
              "      --hover-bg-color: #434B5C;\n",
              "      --hover-fill-color: #FFFFFF;\n",
              "      --disabled-bg-color: #3B4455;\n",
              "      --disabled-fill-color: #666;\n",
              "  }\n",
              "\n",
              "  .colab-df-quickchart {\n",
              "    background-color: var(--bg-color);\n",
              "    border: none;\n",
              "    border-radius: 50%;\n",
              "    cursor: pointer;\n",
              "    display: none;\n",
              "    fill: var(--fill-color);\n",
              "    height: 32px;\n",
              "    padding: 0;\n",
              "    width: 32px;\n",
              "  }\n",
              "\n",
              "  .colab-df-quickchart:hover {\n",
              "    background-color: var(--hover-bg-color);\n",
              "    box-shadow: 0 1px 2px rgba(60, 64, 67, 0.3), 0 1px 3px 1px rgba(60, 64, 67, 0.15);\n",
              "    fill: var(--button-hover-fill-color);\n",
              "  }\n",
              "\n",
              "  .colab-df-quickchart-complete:disabled,\n",
              "  .colab-df-quickchart-complete:disabled:hover {\n",
              "    background-color: var(--disabled-bg-color);\n",
              "    fill: var(--disabled-fill-color);\n",
              "    box-shadow: none;\n",
              "  }\n",
              "\n",
              "  .colab-df-spinner {\n",
              "    border: 2px solid var(--fill-color);\n",
              "    border-color: transparent;\n",
              "    border-bottom-color: var(--fill-color);\n",
              "    animation:\n",
              "      spin 1s steps(1) infinite;\n",
              "  }\n",
              "\n",
              "  @keyframes spin {\n",
              "    0% {\n",
              "      border-color: transparent;\n",
              "      border-bottom-color: var(--fill-color);\n",
              "      border-left-color: var(--fill-color);\n",
              "    }\n",
              "    20% {\n",
              "      border-color: transparent;\n",
              "      border-left-color: var(--fill-color);\n",
              "      border-top-color: var(--fill-color);\n",
              "    }\n",
              "    30% {\n",
              "      border-color: transparent;\n",
              "      border-left-color: var(--fill-color);\n",
              "      border-top-color: var(--fill-color);\n",
              "      border-right-color: var(--fill-color);\n",
              "    }\n",
              "    40% {\n",
              "      border-color: transparent;\n",
              "      border-right-color: var(--fill-color);\n",
              "      border-top-color: var(--fill-color);\n",
              "    }\n",
              "    60% {\n",
              "      border-color: transparent;\n",
              "      border-right-color: var(--fill-color);\n",
              "    }\n",
              "    80% {\n",
              "      border-color: transparent;\n",
              "      border-right-color: var(--fill-color);\n",
              "      border-bottom-color: var(--fill-color);\n",
              "    }\n",
              "    90% {\n",
              "      border-color: transparent;\n",
              "      border-bottom-color: var(--fill-color);\n",
              "    }\n",
              "  }\n",
              "</style>\n",
              "\n",
              "  <script>\n",
              "    async function quickchart(key) {\n",
              "      const quickchartButtonEl =\n",
              "        document.querySelector('#' + key + ' button');\n",
              "      quickchartButtonEl.disabled = true;  // To prevent multiple clicks.\n",
              "      quickchartButtonEl.classList.add('colab-df-spinner');\n",
              "      try {\n",
              "        const charts = await google.colab.kernel.invokeFunction(\n",
              "            'suggestCharts', [key], {});\n",
              "      } catch (error) {\n",
              "        console.error('Error during call to suggestCharts:', error);\n",
              "      }\n",
              "      quickchartButtonEl.classList.remove('colab-df-spinner');\n",
              "      quickchartButtonEl.classList.add('colab-df-quickchart-complete');\n",
              "    }\n",
              "    (() => {\n",
              "      let quickchartButtonEl =\n",
              "        document.querySelector('#df-043d365f-c1bf-47a0-a030-a44b99e3fa98 button');\n",
              "      quickchartButtonEl.style.display =\n",
              "        google.colab.kernel.accessAllowed ? 'block' : 'none';\n",
              "    })();\n",
              "  </script>\n",
              "</div>\n",
              "\n",
              "    </div>\n",
              "  </div>\n"
            ],
            "application/vnd.google.colaboratory.intrinsic+json": {
              "type": "dataframe",
              "variable_name": "df",
              "summary": "{\n  \"name\": \"df\",\n  \"rows\": 1461,\n  \"fields\": [\n    {\n      \"column\": \"date\",\n      \"properties\": {\n        \"dtype\": \"object\",\n        \"num_unique_values\": 1461,\n        \"samples\": [\n          \"2014-06-11\",\n          \"2015-01-10\",\n          \"2013-02-17\"\n        ],\n        \"semantic_type\": \"\",\n        \"description\": \"\"\n      }\n    },\n    {\n      \"column\": \"precipitation\",\n      \"properties\": {\n        \"dtype\": \"number\",\n        \"std\": 6.680194322314731,\n        \"min\": 0.0,\n        \"max\": 55.9,\n        \"num_unique_values\": 111,\n        \"samples\": [\n          43.4,\n          8.1,\n          1.3\n        ],\n        \"semantic_type\": \"\",\n        \"description\": \"\"\n      }\n    },\n    {\n      \"column\": \"temp_max\",\n      \"properties\": {\n        \"dtype\": \"number\",\n        \"std\": 7.349758097360185,\n        \"min\": -1.6,\n        \"max\": 35.6,\n        \"num_unique_values\": 67,\n        \"samples\": [\n          25.6,\n          8.3,\n          8.9\n        ],\n        \"semantic_type\": \"\",\n        \"description\": \"\"\n      }\n    },\n    {\n      \"column\": \"temp_min\",\n      \"properties\": {\n        \"dtype\": \"number\",\n        \"std\": 5.023004179961267,\n        \"min\": -7.1,\n        \"max\": 18.3,\n        \"num_unique_values\": 55,\n        \"samples\": [\n          13.3,\n          0.6,\n          14.4\n        ],\n        \"semantic_type\": \"\",\n        \"description\": \"\"\n      }\n    },\n    {\n      \"column\": \"wind\",\n      \"properties\": {\n        \"dtype\": \"number\",\n        \"std\": 1.4378250588746244,\n        \"min\": 0.4,\n        \"max\": 9.5,\n        \"num_unique_values\": 79,\n        \"samples\": [\n          8.1,\n          4.7,\n          2.6\n        ],\n        \"semantic_type\": \"\",\n        \"description\": \"\"\n      }\n    },\n    {\n      \"column\": \"weather\",\n      \"properties\": {\n        \"dtype\": \"category\",\n        \"num_unique_values\": 5,\n        \"samples\": [\n          \"rain\",\n          \"fog\",\n          \"sun\"\n        ],\n        \"semantic_type\": \"\",\n        \"description\": \"\"\n      }\n    }\n  ]\n}"
            }
          },
          "metadata": {},
          "execution_count": 2
        }
      ]
    },
    {
      "cell_type": "markdown",
      "source": [
        "check if any data is missing"
      ],
      "metadata": {
        "id": "EXBZsIxnWVB1"
      }
    },
    {
      "cell_type": "code",
      "source": [
        "df.isna().sum()"
      ],
      "metadata": {
        "colab": {
          "base_uri": "https://localhost:8080/",
          "height": 272
        },
        "id": "OYHqR8ogA449",
        "outputId": "962b8103-1904-4bcf-dfcf-d108d014378d"
      },
      "execution_count": 3,
      "outputs": [
        {
          "output_type": "execute_result",
          "data": {
            "text/plain": [
              "date             0\n",
              "precipitation    0\n",
              "temp_max         0\n",
              "temp_min         0\n",
              "wind             0\n",
              "weather          0\n",
              "dtype: int64"
            ],
            "text/html": [
              "<div>\n",
              "<style scoped>\n",
              "    .dataframe tbody tr th:only-of-type {\n",
              "        vertical-align: middle;\n",
              "    }\n",
              "\n",
              "    .dataframe tbody tr th {\n",
              "        vertical-align: top;\n",
              "    }\n",
              "\n",
              "    .dataframe thead th {\n",
              "        text-align: right;\n",
              "    }\n",
              "</style>\n",
              "<table border=\"1\" class=\"dataframe\">\n",
              "  <thead>\n",
              "    <tr style=\"text-align: right;\">\n",
              "      <th></th>\n",
              "      <th>0</th>\n",
              "    </tr>\n",
              "  </thead>\n",
              "  <tbody>\n",
              "    <tr>\n",
              "      <th>date</th>\n",
              "      <td>0</td>\n",
              "    </tr>\n",
              "    <tr>\n",
              "      <th>precipitation</th>\n",
              "      <td>0</td>\n",
              "    </tr>\n",
              "    <tr>\n",
              "      <th>temp_max</th>\n",
              "      <td>0</td>\n",
              "    </tr>\n",
              "    <tr>\n",
              "      <th>temp_min</th>\n",
              "      <td>0</td>\n",
              "    </tr>\n",
              "    <tr>\n",
              "      <th>wind</th>\n",
              "      <td>0</td>\n",
              "    </tr>\n",
              "    <tr>\n",
              "      <th>weather</th>\n",
              "      <td>0</td>\n",
              "    </tr>\n",
              "  </tbody>\n",
              "</table>\n",
              "</div><br><label><b>dtype:</b> int64</label>"
            ]
          },
          "metadata": {},
          "execution_count": 3
        }
      ]
    },
    {
      "cell_type": "markdown",
      "source": [
        "show the size of dataset"
      ],
      "metadata": {
        "id": "cpqXYOWDWYoq"
      }
    },
    {
      "cell_type": "code",
      "source": [
        "df.shape"
      ],
      "metadata": {
        "colab": {
          "base_uri": "https://localhost:8080/"
        },
        "id": "rUVx5ET0kbQV",
        "outputId": "afd74c54-b847-44d1-aa9a-d761b9a3f368"
      },
      "execution_count": 4,
      "outputs": [
        {
          "output_type": "execute_result",
          "data": {
            "text/plain": [
              "(1461, 6)"
            ]
          },
          "metadata": {},
          "execution_count": 4
        }
      ]
    },
    {
      "cell_type": "code",
      "source": [
        "df = df.drop(columns = [\"date\"])\n",
        "X = df.drop(columns=[\"weather\"])\n",
        "y = df[\"weather\"]"
      ],
      "metadata": {
        "id": "mJ09SiO-fUNl"
      },
      "execution_count": 5,
      "outputs": []
    },
    {
      "cell_type": "code",
      "source": [
        "X.shape"
      ],
      "metadata": {
        "colab": {
          "base_uri": "https://localhost:8080/"
        },
        "id": "JMwtQV4TnypU",
        "outputId": "c3aaddb8-bb8b-4581-981f-ea573a53a02a"
      },
      "execution_count": 6,
      "outputs": [
        {
          "output_type": "execute_result",
          "data": {
            "text/plain": [
              "(1461, 4)"
            ]
          },
          "metadata": {},
          "execution_count": 6
        }
      ]
    },
    {
      "cell_type": "markdown",
      "source": [
        "Train and evaluate at least five different machine learning algorithms, such as:\n",
        "• Linear Regression/Logistic Regression    \n",
        "• Decision Trees     \n",
        "• Random Forest    \n",
        "• Support Vector Machines (SVM)    \n",
        "• k-Nearest Neighbors (kNN)    \n",
        "• Gradient Boosting Trees   \n",
        "• Neural Networks   "
      ],
      "metadata": {
        "id": "AzgzSnrMWEK8"
      }
    },
    {
      "cell_type": "code",
      "source": [
        "#Use spot-checking to quickly evaluate the performance of 8 machine learning algorithms\n",
        "models = {}\n",
        "models['lgr'] = LR()\n",
        "models['knn'] = KNN()\n",
        "models['gnb'] = GNB()\n",
        "models['svc'] = SVC()\n",
        "models['dtc'] = DTC()\n",
        "models['rfc'] = RFC()\n",
        "models['gbc'] = GBC()\n",
        "models['mlp'] = MLP()\n",
        "\n",
        "kf = KFold(n_splits=3, shuffle=True, random_state=42) #set k=3 fold cross validation\n",
        "kf1 = KFold(n_splits=5, shuffle=True, random_state=42) #set k=3 fold cross validation\n",
        "\n",
        "for n in models:\n",
        "    scores = cross_val_score(models[n], X, y, cv=kf, n_jobs=-1) #get the accuracy\n",
        "    print(f\"{n}: {scores.mean():.3%}, {scores.std():.3%}\")#get the mean and standard deviation of accuracy"
      ],
      "metadata": {
        "colab": {
          "base_uri": "https://localhost:8080/"
        },
        "id": "18nGeKr4Jv38",
        "outputId": "be25f264-f3cd-4a99-c9bc-36f9b141c30b"
      },
      "execution_count": 7,
      "outputs": [
        {
          "output_type": "stream",
          "name": "stdout",
          "text": [
            "lgr: 84.326%, 0.968%\n",
            "knn: 75.838%, 1.078%\n",
            "gnb: 84.326%, 1.355%\n",
            "svc: 77.481%, 1.078%\n",
            "dtc: 75.633%, 0.860%\n",
            "rfc: 83.025%, 0.953%\n",
            "gbc: 82.341%, 0.933%\n",
            "mlp: 83.915%, 1.011%\n"
          ]
        }
      ]
    },
    {
      "cell_type": "code",
      "source": [
        "Robust_scl = RobustScaler()#Feature Scaling with RobustScaler\n",
        "Xs1 = Robust_scl.fit_transform(X)"
      ],
      "metadata": {
        "id": "5HRyo_X8rA5b"
      },
      "execution_count": 8,
      "outputs": []
    },
    {
      "cell_type": "code",
      "source": [
        "MinMax_scl = MinMaxScaler()#Feature Scaling with MinMaxScaler\n",
        "Xs2 = MinMax_scl.fit_transform(X)"
      ],
      "metadata": {
        "id": "toZV4NQYkS5d"
      },
      "execution_count": 9,
      "outputs": []
    },
    {
      "cell_type": "code",
      "source": [
        "Standard_scl = StandardScaler()#Feature Scaling with StandardScaler\n",
        "Xs3 = Standard_scl.fit_transform(X)"
      ],
      "metadata": {
        "id": "Py95vHAykTV0"
      },
      "execution_count": 10,
      "outputs": []
    },
    {
      "cell_type": "code",
      "source": [
        "for n in models:\n",
        "    scores = cross_val_score(models[n], Xs1, y, cv=kf, n_jobs=-1) #get the accuracy\n",
        "    print(f\"ROBUST SCALING {n}: {scores.mean():.3%}, {scores.std():.3%}\")#get the mean and standard deviation of accuracy\n",
        "print(\" \")\n",
        "for i in models:\n",
        "    scores = cross_val_score(models[i], Xs2, y, cv=kf, n_jobs=-1) #get the accuracy\n",
        "    print(f\"MINMAX SCALING {i}: {scores.mean():.3%}, {scores.std():.3%}\")#get the mean and standard deviation of accuracy\n",
        "print(\" \")\n",
        "for j in models:\n",
        "    scores = cross_val_score(models[j], Xs3, y, cv=kf, n_jobs=-1) #get the accuracy\n",
        "    print(f\"STANDARD SCALING {j}: {scores.mean():.3%}, {scores.std():.3%}\")#get the mean and standard deviation of accuracy\n"
      ],
      "metadata": {
        "colab": {
          "base_uri": "https://localhost:8080/"
        },
        "id": "8vo-BNwKrGVq",
        "outputId": "c12253ee-9b34-4456-e4fd-d2aff48c0885"
      },
      "execution_count": 11,
      "outputs": [
        {
          "output_type": "stream",
          "name": "stdout",
          "text": [
            "ROBUST SCALING lgr: 81.588%, 0.512%\n",
            "ROBUST SCALING knn: 77.892%, 0.512%\n",
            "ROBUST SCALING gnb: 84.326%, 1.355%\n",
            "ROBUST SCALING svc: 78.371%, 1.116%\n",
            "ROBUST SCALING dtc: 75.428%, 1.761%\n",
            "ROBUST SCALING rfc: 83.094%, 1.141%\n",
            "ROBUST SCALING gbc: 82.341%, 0.887%\n",
            "ROBUST SCALING mlp: 84.600%, 0.503%\n",
            " \n",
            "MINMAX SCALING lgr: 73.238%, 0.860%\n",
            "MINMAX SCALING knn: 70.363%, 0.635%\n",
            "MINMAX SCALING gnb: 84.326%, 1.355%\n",
            "MINMAX SCALING svc: 75.565%, 0.290%\n",
            "MINMAX SCALING dtc: 75.702%, 0.635%\n",
            "MINMAX SCALING rfc: 82.820%, 0.792%\n",
            "MINMAX SCALING gbc: 82.341%, 1.047%\n",
            "MINMAX SCALING mlp: 76.591%, 0.887%\n",
            " \n",
            "STANDARD SCALING lgr: 78.166%, 0.678%\n",
            "STANDARD SCALING knn: 71.458%, 1.099%\n",
            "STANDARD SCALING gnb: 84.326%, 1.355%\n",
            "STANDARD SCALING svc: 77.550%, 0.792%\n",
            "STANDARD SCALING dtc: 75.770%, 1.617%\n",
            "STANDARD SCALING rfc: 82.957%, 0.731%\n",
            "STANDARD SCALING gbc: 82.478%, 0.982%\n",
            "STANDARD SCALING mlp: 81.040%, 0.589%\n"
          ]
        }
      ]
    },
    {
      "cell_type": "code",
      "source": [
        "#First method: #4/2 = 2 reducing the feature by half\n",
        "pca = PCA(n_components=2)\n",
        "Xsr1 = pca.fit_transform(Xs1)\n",
        "Xsr2 = pca.fit_transform(Xs2)\n",
        "Xsr3 = pca.fit_transform(Xs3)"
      ],
      "metadata": {
        "id": "LafmBRHOduqD"
      },
      "execution_count": 12,
      "outputs": []
    },
    {
      "cell_type": "code",
      "source": [
        "for n in models:\n",
        "    scores = cross_val_score(models[n], Xsr1, y, cv=kf, n_jobs=-1) #get the accuracy\n",
        "    print(f\"ROBUST SCALING {n}: {scores.mean():.3%}, {scores.std():.3%}\")#get the mean and standard deviation of accuracy\n",
        "print(\" \")\n",
        "for i in models:\n",
        "    scores = cross_val_score(models[i], Xsr2, y, cv=kf, n_jobs=-1) #get the accuracy\n",
        "    print(f\"MINMAX SCALING {i}: {scores.mean():.3%}, {scores.std():.3%}\")#get the mean and standard deviation of accuracy\n",
        "print(\" \")\n",
        "for j in models:\n",
        "    scores = cross_val_score(models[j], Xsr3, y, cv=kf, n_jobs=-1) #get the accuracy\n",
        "    print(f\"STANDARD SCALING {j}: {scores.mean():.3%}, {scores.std():.3%}\")#get the mean and standard deviation of accuracy"
      ],
      "metadata": {
        "colab": {
          "base_uri": "https://localhost:8080/"
        },
        "id": "8wTfmAhjq3BV",
        "outputId": "23bb39b9-2dd7-4cd8-bc4d-d2b004fe6601"
      },
      "execution_count": 13,
      "outputs": [
        {
          "output_type": "stream",
          "name": "stdout",
          "text": [
            "ROBUST SCALING lgr: 78.850%, 0.290%\n",
            "ROBUST SCALING knn: 77.139%, 0.512%\n",
            "ROBUST SCALING gnb: 78.029%, 0.605%\n",
            "ROBUST SCALING svc: 78.508%, 0.539%\n",
            "ROBUST SCALING dtc: 69.268%, 1.269%\n",
            "ROBUST SCALING rfc: 76.934%, 0.422%\n",
            "ROBUST SCALING gbc: 78.371%, 0.422%\n",
            "ROBUST SCALING mlp: 79.877%, 0.503%\n",
            " \n",
            "MINMAX SCALING lgr: 62.423%, 2.012%\n",
            "MINMAX SCALING knn: 59.343%, 1.266%\n",
            "MINMAX SCALING gnb: 61.875%, 1.943%\n",
            "MINMAX SCALING svc: 65.024%, 1.116%\n",
            "MINMAX SCALING dtc: 55.578%, 2.373%\n",
            "MINMAX SCALING rfc: 62.012%, 1.209%\n",
            "MINMAX SCALING gbc: 62.971%, 0.589%\n",
            "MINMAX SCALING mlp: 63.997%, 1.465%\n",
            " \n",
            "STANDARD SCALING lgr: 65.092%, 1.432%\n",
            "STANDARD SCALING knn: 63.587%, 1.884%\n",
            "STANDARD SCALING gnb: 62.423%, 1.006%\n",
            "STANDARD SCALING svc: 66.598%, 0.953%\n",
            "STANDARD SCALING dtc: 56.263%, 1.702%\n",
            "STANDARD SCALING rfc: 63.107%, 0.349%\n",
            "STANDARD SCALING gbc: 65.366%, 1.355%\n",
            "STANDARD SCALING mlp: 67.556%, 0.605%\n"
          ]
        }
      ]
    },
    {
      "cell_type": "code",
      "source": [
        "#Second method: create new features based on the existing features\n",
        "win_size = 4\n",
        "df['mean_precipitation'] = df['precipitation'].rolling(win_size).mean()\n",
        "df['mean_temp_max'] = df['temp_max'].rolling(win_size).mean()\n",
        "df['mean_temp'] = df['temp_max'] + df['temp_min'] / 2\n",
        "df['mean_temp_min'] = df['temp_min'].rolling(win_size).mean()\n",
        "df['mean_wind'] = df['wind'].rolling(win_size).mean()\n",
        "\n",
        "print(df.shape)\n",
        "print(df.head(10))"
      ],
      "metadata": {
        "colab": {
          "base_uri": "https://localhost:8080/"
        },
        "id": "Db2-YfdgHv_0",
        "outputId": "12373ee3-3411-40a1-a813-ac4cdfd1ba55"
      },
      "execution_count": 14,
      "outputs": [
        {
          "output_type": "stream",
          "name": "stdout",
          "text": [
            "(1461, 10)\n",
            "   precipitation  temp_max  temp_min  wind  weather  mean_precipitation  \\\n",
            "0            0.0      12.8       5.0   4.7  drizzle                 NaN   \n",
            "1           10.9      10.6       2.8   4.5     rain                 NaN   \n",
            "2            0.8      11.7       7.2   2.3     rain                 NaN   \n",
            "3           20.3      12.2       5.6   4.7     rain               8.000   \n",
            "4            1.3       8.9       2.8   6.1     rain               8.325   \n",
            "5            2.5       4.4       2.2   2.2     rain               6.225   \n",
            "6            0.0       7.2       2.8   2.3     rain               6.025   \n",
            "7            0.0      10.0       2.8   2.0      sun               0.950   \n",
            "8            4.3       9.4       5.0   3.4     rain               1.700   \n",
            "9            1.0       6.1       0.6   3.4     rain               1.325   \n",
            "\n",
            "   mean_temp_max  mean_temp  mean_temp_min  mean_wind  \n",
            "0            NaN       15.3            NaN        NaN  \n",
            "1            NaN       12.0            NaN        NaN  \n",
            "2            NaN       15.3            NaN        NaN  \n",
            "3         11.825       15.0           5.15      4.050  \n",
            "4         10.850       10.3           4.60      4.400  \n",
            "5          9.300        5.5           4.45      3.825  \n",
            "6          8.175        8.6           3.35      3.825  \n",
            "7          7.625       11.4           2.65      3.150  \n",
            "8          7.750       11.9           3.20      2.475  \n",
            "9          8.175        6.4           2.80      2.775  \n"
          ]
        }
      ]
    },
    {
      "cell_type": "code",
      "source": [
        "df = df.dropna()\n",
        "df.head()"
      ],
      "metadata": {
        "colab": {
          "base_uri": "https://localhost:8080/",
          "height": 206
        },
        "id": "CExhLyAFIqk-",
        "outputId": "36965963-f708-4214-ae0c-3f90ac16af25"
      },
      "execution_count": 15,
      "outputs": [
        {
          "output_type": "execute_result",
          "data": {
            "text/plain": [
              "   precipitation  temp_max  temp_min  wind weather  mean_precipitation  \\\n",
              "3           20.3      12.2       5.6   4.7    rain               8.000   \n",
              "4            1.3       8.9       2.8   6.1    rain               8.325   \n",
              "5            2.5       4.4       2.2   2.2    rain               6.225   \n",
              "6            0.0       7.2       2.8   2.3    rain               6.025   \n",
              "7            0.0      10.0       2.8   2.0     sun               0.950   \n",
              "\n",
              "   mean_temp_max  mean_temp  mean_temp_min  mean_wind  \n",
              "3         11.825       15.0           5.15      4.050  \n",
              "4         10.850       10.3           4.60      4.400  \n",
              "5          9.300        5.5           4.45      3.825  \n",
              "6          8.175        8.6           3.35      3.825  \n",
              "7          7.625       11.4           2.65      3.150  "
            ],
            "text/html": [
              "\n",
              "  <div id=\"df-e87050e3-d94e-4297-8561-e26842bcb0d1\" class=\"colab-df-container\">\n",
              "    <div>\n",
              "<style scoped>\n",
              "    .dataframe tbody tr th:only-of-type {\n",
              "        vertical-align: middle;\n",
              "    }\n",
              "\n",
              "    .dataframe tbody tr th {\n",
              "        vertical-align: top;\n",
              "    }\n",
              "\n",
              "    .dataframe thead th {\n",
              "        text-align: right;\n",
              "    }\n",
              "</style>\n",
              "<table border=\"1\" class=\"dataframe\">\n",
              "  <thead>\n",
              "    <tr style=\"text-align: right;\">\n",
              "      <th></th>\n",
              "      <th>precipitation</th>\n",
              "      <th>temp_max</th>\n",
              "      <th>temp_min</th>\n",
              "      <th>wind</th>\n",
              "      <th>weather</th>\n",
              "      <th>mean_precipitation</th>\n",
              "      <th>mean_temp_max</th>\n",
              "      <th>mean_temp</th>\n",
              "      <th>mean_temp_min</th>\n",
              "      <th>mean_wind</th>\n",
              "    </tr>\n",
              "  </thead>\n",
              "  <tbody>\n",
              "    <tr>\n",
              "      <th>3</th>\n",
              "      <td>20.3</td>\n",
              "      <td>12.2</td>\n",
              "      <td>5.6</td>\n",
              "      <td>4.7</td>\n",
              "      <td>rain</td>\n",
              "      <td>8.000</td>\n",
              "      <td>11.825</td>\n",
              "      <td>15.0</td>\n",
              "      <td>5.15</td>\n",
              "      <td>4.050</td>\n",
              "    </tr>\n",
              "    <tr>\n",
              "      <th>4</th>\n",
              "      <td>1.3</td>\n",
              "      <td>8.9</td>\n",
              "      <td>2.8</td>\n",
              "      <td>6.1</td>\n",
              "      <td>rain</td>\n",
              "      <td>8.325</td>\n",
              "      <td>10.850</td>\n",
              "      <td>10.3</td>\n",
              "      <td>4.60</td>\n",
              "      <td>4.400</td>\n",
              "    </tr>\n",
              "    <tr>\n",
              "      <th>5</th>\n",
              "      <td>2.5</td>\n",
              "      <td>4.4</td>\n",
              "      <td>2.2</td>\n",
              "      <td>2.2</td>\n",
              "      <td>rain</td>\n",
              "      <td>6.225</td>\n",
              "      <td>9.300</td>\n",
              "      <td>5.5</td>\n",
              "      <td>4.45</td>\n",
              "      <td>3.825</td>\n",
              "    </tr>\n",
              "    <tr>\n",
              "      <th>6</th>\n",
              "      <td>0.0</td>\n",
              "      <td>7.2</td>\n",
              "      <td>2.8</td>\n",
              "      <td>2.3</td>\n",
              "      <td>rain</td>\n",
              "      <td>6.025</td>\n",
              "      <td>8.175</td>\n",
              "      <td>8.6</td>\n",
              "      <td>3.35</td>\n",
              "      <td>3.825</td>\n",
              "    </tr>\n",
              "    <tr>\n",
              "      <th>7</th>\n",
              "      <td>0.0</td>\n",
              "      <td>10.0</td>\n",
              "      <td>2.8</td>\n",
              "      <td>2.0</td>\n",
              "      <td>sun</td>\n",
              "      <td>0.950</td>\n",
              "      <td>7.625</td>\n",
              "      <td>11.4</td>\n",
              "      <td>2.65</td>\n",
              "      <td>3.150</td>\n",
              "    </tr>\n",
              "  </tbody>\n",
              "</table>\n",
              "</div>\n",
              "    <div class=\"colab-df-buttons\">\n",
              "\n",
              "  <div class=\"colab-df-container\">\n",
              "    <button class=\"colab-df-convert\" onclick=\"convertToInteractive('df-e87050e3-d94e-4297-8561-e26842bcb0d1')\"\n",
              "            title=\"Convert this dataframe to an interactive table.\"\n",
              "            style=\"display:none;\">\n",
              "\n",
              "  <svg xmlns=\"http://www.w3.org/2000/svg\" height=\"24px\" viewBox=\"0 -960 960 960\">\n",
              "    <path d=\"M120-120v-720h720v720H120Zm60-500h600v-160H180v160Zm220 220h160v-160H400v160Zm0 220h160v-160H400v160ZM180-400h160v-160H180v160Zm440 0h160v-160H620v160ZM180-180h160v-160H180v160Zm440 0h160v-160H620v160Z\"/>\n",
              "  </svg>\n",
              "    </button>\n",
              "\n",
              "  <style>\n",
              "    .colab-df-container {\n",
              "      display:flex;\n",
              "      gap: 12px;\n",
              "    }\n",
              "\n",
              "    .colab-df-convert {\n",
              "      background-color: #E8F0FE;\n",
              "      border: none;\n",
              "      border-radius: 50%;\n",
              "      cursor: pointer;\n",
              "      display: none;\n",
              "      fill: #1967D2;\n",
              "      height: 32px;\n",
              "      padding: 0 0 0 0;\n",
              "      width: 32px;\n",
              "    }\n",
              "\n",
              "    .colab-df-convert:hover {\n",
              "      background-color: #E2EBFA;\n",
              "      box-shadow: 0px 1px 2px rgba(60, 64, 67, 0.3), 0px 1px 3px 1px rgba(60, 64, 67, 0.15);\n",
              "      fill: #174EA6;\n",
              "    }\n",
              "\n",
              "    .colab-df-buttons div {\n",
              "      margin-bottom: 4px;\n",
              "    }\n",
              "\n",
              "    [theme=dark] .colab-df-convert {\n",
              "      background-color: #3B4455;\n",
              "      fill: #D2E3FC;\n",
              "    }\n",
              "\n",
              "    [theme=dark] .colab-df-convert:hover {\n",
              "      background-color: #434B5C;\n",
              "      box-shadow: 0px 1px 3px 1px rgba(0, 0, 0, 0.15);\n",
              "      filter: drop-shadow(0px 1px 2px rgba(0, 0, 0, 0.3));\n",
              "      fill: #FFFFFF;\n",
              "    }\n",
              "  </style>\n",
              "\n",
              "    <script>\n",
              "      const buttonEl =\n",
              "        document.querySelector('#df-e87050e3-d94e-4297-8561-e26842bcb0d1 button.colab-df-convert');\n",
              "      buttonEl.style.display =\n",
              "        google.colab.kernel.accessAllowed ? 'block' : 'none';\n",
              "\n",
              "      async function convertToInteractive(key) {\n",
              "        const element = document.querySelector('#df-e87050e3-d94e-4297-8561-e26842bcb0d1');\n",
              "        const dataTable =\n",
              "          await google.colab.kernel.invokeFunction('convertToInteractive',\n",
              "                                                    [key], {});\n",
              "        if (!dataTable) return;\n",
              "\n",
              "        const docLinkHtml = 'Like what you see? Visit the ' +\n",
              "          '<a target=\"_blank\" href=https://colab.research.google.com/notebooks/data_table.ipynb>data table notebook</a>'\n",
              "          + ' to learn more about interactive tables.';\n",
              "        element.innerHTML = '';\n",
              "        dataTable['output_type'] = 'display_data';\n",
              "        await google.colab.output.renderOutput(dataTable, element);\n",
              "        const docLink = document.createElement('div');\n",
              "        docLink.innerHTML = docLinkHtml;\n",
              "        element.appendChild(docLink);\n",
              "      }\n",
              "    </script>\n",
              "  </div>\n",
              "\n",
              "\n",
              "<div id=\"df-9c1be44b-bad9-4406-9a2b-3e9514b644e5\">\n",
              "  <button class=\"colab-df-quickchart\" onclick=\"quickchart('df-9c1be44b-bad9-4406-9a2b-3e9514b644e5')\"\n",
              "            title=\"Suggest charts\"\n",
              "            style=\"display:none;\">\n",
              "\n",
              "<svg xmlns=\"http://www.w3.org/2000/svg\" height=\"24px\"viewBox=\"0 0 24 24\"\n",
              "     width=\"24px\">\n",
              "    <g>\n",
              "        <path d=\"M19 3H5c-1.1 0-2 .9-2 2v14c0 1.1.9 2 2 2h14c1.1 0 2-.9 2-2V5c0-1.1-.9-2-2-2zM9 17H7v-7h2v7zm4 0h-2V7h2v10zm4 0h-2v-4h2v4z\"/>\n",
              "    </g>\n",
              "</svg>\n",
              "  </button>\n",
              "\n",
              "<style>\n",
              "  .colab-df-quickchart {\n",
              "      --bg-color: #E8F0FE;\n",
              "      --fill-color: #1967D2;\n",
              "      --hover-bg-color: #E2EBFA;\n",
              "      --hover-fill-color: #174EA6;\n",
              "      --disabled-fill-color: #AAA;\n",
              "      --disabled-bg-color: #DDD;\n",
              "  }\n",
              "\n",
              "  [theme=dark] .colab-df-quickchart {\n",
              "      --bg-color: #3B4455;\n",
              "      --fill-color: #D2E3FC;\n",
              "      --hover-bg-color: #434B5C;\n",
              "      --hover-fill-color: #FFFFFF;\n",
              "      --disabled-bg-color: #3B4455;\n",
              "      --disabled-fill-color: #666;\n",
              "  }\n",
              "\n",
              "  .colab-df-quickchart {\n",
              "    background-color: var(--bg-color);\n",
              "    border: none;\n",
              "    border-radius: 50%;\n",
              "    cursor: pointer;\n",
              "    display: none;\n",
              "    fill: var(--fill-color);\n",
              "    height: 32px;\n",
              "    padding: 0;\n",
              "    width: 32px;\n",
              "  }\n",
              "\n",
              "  .colab-df-quickchart:hover {\n",
              "    background-color: var(--hover-bg-color);\n",
              "    box-shadow: 0 1px 2px rgba(60, 64, 67, 0.3), 0 1px 3px 1px rgba(60, 64, 67, 0.15);\n",
              "    fill: var(--button-hover-fill-color);\n",
              "  }\n",
              "\n",
              "  .colab-df-quickchart-complete:disabled,\n",
              "  .colab-df-quickchart-complete:disabled:hover {\n",
              "    background-color: var(--disabled-bg-color);\n",
              "    fill: var(--disabled-fill-color);\n",
              "    box-shadow: none;\n",
              "  }\n",
              "\n",
              "  .colab-df-spinner {\n",
              "    border: 2px solid var(--fill-color);\n",
              "    border-color: transparent;\n",
              "    border-bottom-color: var(--fill-color);\n",
              "    animation:\n",
              "      spin 1s steps(1) infinite;\n",
              "  }\n",
              "\n",
              "  @keyframes spin {\n",
              "    0% {\n",
              "      border-color: transparent;\n",
              "      border-bottom-color: var(--fill-color);\n",
              "      border-left-color: var(--fill-color);\n",
              "    }\n",
              "    20% {\n",
              "      border-color: transparent;\n",
              "      border-left-color: var(--fill-color);\n",
              "      border-top-color: var(--fill-color);\n",
              "    }\n",
              "    30% {\n",
              "      border-color: transparent;\n",
              "      border-left-color: var(--fill-color);\n",
              "      border-top-color: var(--fill-color);\n",
              "      border-right-color: var(--fill-color);\n",
              "    }\n",
              "    40% {\n",
              "      border-color: transparent;\n",
              "      border-right-color: var(--fill-color);\n",
              "      border-top-color: var(--fill-color);\n",
              "    }\n",
              "    60% {\n",
              "      border-color: transparent;\n",
              "      border-right-color: var(--fill-color);\n",
              "    }\n",
              "    80% {\n",
              "      border-color: transparent;\n",
              "      border-right-color: var(--fill-color);\n",
              "      border-bottom-color: var(--fill-color);\n",
              "    }\n",
              "    90% {\n",
              "      border-color: transparent;\n",
              "      border-bottom-color: var(--fill-color);\n",
              "    }\n",
              "  }\n",
              "</style>\n",
              "\n",
              "  <script>\n",
              "    async function quickchart(key) {\n",
              "      const quickchartButtonEl =\n",
              "        document.querySelector('#' + key + ' button');\n",
              "      quickchartButtonEl.disabled = true;  // To prevent multiple clicks.\n",
              "      quickchartButtonEl.classList.add('colab-df-spinner');\n",
              "      try {\n",
              "        const charts = await google.colab.kernel.invokeFunction(\n",
              "            'suggestCharts', [key], {});\n",
              "      } catch (error) {\n",
              "        console.error('Error during call to suggestCharts:', error);\n",
              "      }\n",
              "      quickchartButtonEl.classList.remove('colab-df-spinner');\n",
              "      quickchartButtonEl.classList.add('colab-df-quickchart-complete');\n",
              "    }\n",
              "    (() => {\n",
              "      let quickchartButtonEl =\n",
              "        document.querySelector('#df-9c1be44b-bad9-4406-9a2b-3e9514b644e5 button');\n",
              "      quickchartButtonEl.style.display =\n",
              "        google.colab.kernel.accessAllowed ? 'block' : 'none';\n",
              "    })();\n",
              "  </script>\n",
              "</div>\n",
              "\n",
              "    </div>\n",
              "  </div>\n"
            ],
            "application/vnd.google.colaboratory.intrinsic+json": {
              "type": "dataframe",
              "variable_name": "df",
              "summary": "{\n  \"name\": \"df\",\n  \"rows\": 1458,\n  \"fields\": [\n    {\n      \"column\": \"precipitation\",\n      \"properties\": {\n        \"dtype\": \"number\",\n        \"std\": 6.68316173000885,\n        \"min\": 0.0,\n        \"max\": 55.9,\n        \"num_unique_values\": 111,\n        \"samples\": [\n          43.4,\n          15.2,\n          4.3\n        ],\n        \"semantic_type\": \"\",\n        \"description\": \"\"\n      }\n    },\n    {\n      \"column\": \"temp_max\",\n      \"properties\": {\n        \"dtype\": \"number\",\n        \"std\": 7.354058125371807,\n        \"min\": -1.6,\n        \"max\": 35.6,\n        \"num_unique_values\": 67,\n        \"samples\": [\n          25.6,\n          15.6,\n          10.0\n        ],\n        \"semantic_type\": \"\",\n        \"description\": \"\"\n      }\n    },\n    {\n      \"column\": \"temp_min\",\n      \"properties\": {\n        \"dtype\": \"number\",\n        \"std\": 5.025364479188974,\n        \"min\": -7.1,\n        \"max\": 18.3,\n        \"num_unique_values\": 55,\n        \"samples\": [\n          13.3,\n          -1.1,\n          14.4\n        ],\n        \"semantic_type\": \"\",\n        \"description\": \"\"\n      }\n    },\n    {\n      \"column\": \"wind\",\n      \"properties\": {\n        \"dtype\": \"number\",\n        \"std\": 1.4382071481694192,\n        \"min\": 0.4,\n        \"max\": 9.5,\n        \"num_unique_values\": 79,\n        \"samples\": [\n          8.1,\n          4.7,\n          2.6\n        ],\n        \"semantic_type\": \"\",\n        \"description\": \"\"\n      }\n    },\n    {\n      \"column\": \"weather\",\n      \"properties\": {\n        \"dtype\": \"category\",\n        \"num_unique_values\": 5,\n        \"samples\": [\n          \"sun\",\n          \"fog\",\n          \"snow\"\n        ],\n        \"semantic_type\": \"\",\n        \"description\": \"\"\n      }\n    },\n    {\n      \"column\": \"mean_precipitation\",\n      \"properties\": {\n        \"dtype\": \"number\",\n        \"std\": 4.390883191448562,\n        \"min\": 0.0,\n        \"max\": 28.25,\n        \"num_unique_values\": 652,\n        \"samples\": [\n          1.5999999999999965,\n          6.724999999999998,\n          4.499999999999998\n        ],\n        \"semantic_type\": \"\",\n        \"description\": \"\"\n      }\n    },\n    {\n      \"column\": \"mean_temp_max\",\n      \"properties\": {\n        \"dtype\": \"number\",\n        \"std\": 7.020238130318374,\n        \"min\": 0.975,\n        \"max\": 33.575,\n        \"num_unique_values\": 629,\n        \"samples\": [\n          28.75,\n          7.6499999999999995,\n          14.825000000000001\n        ],\n        \"semantic_type\": \"\",\n        \"description\": \"\"\n      }\n    },\n    {\n      \"column\": \"mean_temp\",\n      \"properties\": {\n        \"dtype\": \"number\",\n        \"std\": 9.631069529153233,\n        \"min\": -4.6,\n        \"max\": 44.5,\n        \"num_unique_values\": 447,\n        \"samples\": [\n          37.5,\n          18.95,\n          19.150000000000002\n        ],\n        \"semantic_type\": \"\",\n        \"description\": \"\"\n      }\n    },\n    {\n      \"column\": \"mean_temp_min\",\n      \"properties\": {\n        \"dtype\": \"number\",\n        \"std\": 4.787555093102067,\n        \"min\": -5.724999999999998,\n        \"max\": 17.625000000000004,\n        \"num_unique_values\": 806,\n        \"samples\": [\n          3.875000000000003,\n          7.225000000000001,\n          1.675000000000001\n        ],\n        \"semantic_type\": \"\",\n        \"description\": \"\"\n      }\n    },\n    {\n      \"column\": \"mean_wind\",\n      \"properties\": {\n        \"dtype\": \"number\",\n        \"std\": 0.9803827089224787,\n        \"min\": 0.8749999999999996,\n        \"max\": 7.75,\n        \"num_unique_values\": 486,\n        \"samples\": [\n          3.9999999999999996,\n          3.0249999999999995,\n          2.599999999999999\n        ],\n        \"semantic_type\": \"\",\n        \"description\": \"\"\n      }\n    }\n  ]\n}"
            }
          },
          "metadata": {},
          "execution_count": 15
        }
      ]
    },
    {
      "cell_type": "code",
      "source": [
        "X_New = df.drop(columns=[\"weather\"])\n",
        "y_New = df[\"weather\"]\n",
        "\n",
        "Xs1 = Robust_scl.fit_transform(X_New)\n",
        "Xs2 = MinMax_scl.fit_transform(X_New)\n",
        "Xs3 = Standard_scl.fit_transform(X_New)"
      ],
      "metadata": {
        "id": "rE542ttrJTX0"
      },
      "execution_count": 16,
      "outputs": []
    },
    {
      "cell_type": "code",
      "source": [
        "X_New.shape"
      ],
      "metadata": {
        "colab": {
          "base_uri": "https://localhost:8080/"
        },
        "id": "Fs6EVkHPKq_D",
        "outputId": "7c71177c-2af5-4f86-e962-ecc1e5d146f1"
      },
      "execution_count": 17,
      "outputs": [
        {
          "output_type": "execute_result",
          "data": {
            "text/plain": [
              "(1458, 9)"
            ]
          },
          "metadata": {},
          "execution_count": 17
        }
      ]
    },
    {
      "cell_type": "code",
      "source": [
        "y_New.shape"
      ],
      "metadata": {
        "colab": {
          "base_uri": "https://localhost:8080/"
        },
        "id": "ln81y5AhKtZr",
        "outputId": "bf0709dc-f50b-46b3-d479-d926bf9a308f"
      },
      "execution_count": 18,
      "outputs": [
        {
          "output_type": "execute_result",
          "data": {
            "text/plain": [
              "(1458,)"
            ]
          },
          "metadata": {},
          "execution_count": 18
        }
      ]
    },
    {
      "cell_type": "code",
      "source": [
        "for n in models:\n",
        "    scores = cross_val_score(models[n], Xs1, y_New, cv=kf, n_jobs=-1) #get the accuracy\n",
        "    print(f\"ROBUST SCALING {n}: {scores.mean():.3%}, {scores.std():.3%}\")#get the mean and standard deviation of accuracy\n",
        "print(\" \")\n",
        "for i in models:\n",
        "    scores = cross_val_score(models[i], Xs2, y_New, cv=kf, n_jobs=-1) #get the accuracy\n",
        "    print(f\"MINMAX SCALING {i}: {scores.mean():.3%}, {scores.std():.3%}\")#get the mean and standard deviation of accuracy\n",
        "print(\" \")\n",
        "for j in models:\n",
        "    scores = cross_val_score(models[j], Xs3, y_New, cv=kf, n_jobs=-1) #get the accuracy\n",
        "    print(f\"STANDARD SCALING {j}: {scores.mean():.3%}, {scores.std():.3%}\")#get the mean and standard deviation of accuracy"
      ],
      "metadata": {
        "colab": {
          "base_uri": "https://localhost:8080/"
        },
        "id": "CNrkpmA7LAFy",
        "outputId": "8da10655-9732-4d76-bae6-5bc2345ac93a"
      },
      "execution_count": 19,
      "outputs": [
        {
          "output_type": "stream",
          "name": "stdout",
          "text": [
            "ROBUST SCALING lgr: 81.001%, 2.695%\n",
            "ROBUST SCALING knn: 74.623%, 1.561%\n",
            "ROBUST SCALING gnb: 76.406%, 1.851%\n",
            "ROBUST SCALING svc: 78.532%, 3.063%\n",
            "ROBUST SCALING dtc: 77.915%, 1.561%\n",
            "ROBUST SCALING rfc: 85.734%, 1.947%\n",
            "ROBUST SCALING gbc: 84.705%, 1.027%\n",
            "ROBUST SCALING mlp: 83.196%, 2.460%\n",
            " \n",
            "MINMAX SCALING lgr: 73.045%, 1.268%\n",
            "MINMAX SCALING knn: 69.890%, 0.513%\n",
            "MINMAX SCALING gnb: 76.406%, 1.851%\n",
            "MINMAX SCALING svc: 74.143%, 1.588%\n",
            "MINMAX SCALING dtc: 78.052%, 2.330%\n",
            "MINMAX SCALING rfc: 85.871%, 1.765%\n",
            "MINMAX SCALING gbc: 84.774%, 1.493%\n",
            "MINMAX SCALING mlp: 76.063%, 1.765%\n",
            " \n",
            "STANDARD SCALING lgr: 78.601%, 2.310%\n",
            "STANDARD SCALING knn: 70.850%, 0.829%\n",
            "STANDARD SCALING gnb: 76.406%, 1.851%\n",
            "STANDARD SCALING svc: 75.446%, 1.765%\n",
            "STANDARD SCALING dtc: 77.846%, 1.683%\n",
            "STANDARD SCALING rfc: 85.802%, 1.778%\n",
            "STANDARD SCALING gbc: 84.705%, 1.238%\n",
            "STANDARD SCALING mlp: 80.041%, 2.423%\n"
          ]
        }
      ]
    },
    {
      "cell_type": "code",
      "source": [
        "#X_New = df.drop(columns=[\"mean_temp\"]) delete column of mean value of temperature\n",
        "X_New.shape"
      ],
      "metadata": {
        "id": "50PndF5TVJwc",
        "outputId": "691a2bb6-cc3f-4b74-e9ab-ee7aafd1d3f7",
        "colab": {
          "base_uri": "https://localhost:8080/"
        }
      },
      "execution_count": 20,
      "outputs": [
        {
          "output_type": "execute_result",
          "data": {
            "text/plain": [
              "(1458, 9)"
            ]
          },
          "metadata": {},
          "execution_count": 20
        }
      ]
    },
    {
      "cell_type": "code",
      "source": [
        "Xs1 = Robust_scl.fit_transform(X_New)\n",
        "Xs2 = MinMax_scl.fit_transform(X_New)\n",
        "Xs3 = Standard_scl.fit_transform(X_New)"
      ],
      "metadata": {
        "id": "jI0Ws5JkWQAq"
      },
      "execution_count": 21,
      "outputs": []
    },
    {
      "cell_type": "code",
      "source": [
        "for n in models:\n",
        "    scores = cross_val_score(models[n], Xs1, y_New, cv=kf, n_jobs=-1) #get the accuracy\n",
        "    print(f\"ROBUST SCALING {n}: {scores.mean():.3%}, {scores.std():.3%}\")#get the mean and standard deviation of accuracy\n",
        "print(\" \")\n",
        "for i in models:\n",
        "    scores = cross_val_score(models[i], Xs2, y_New, cv=kf, n_jobs=-1) #get the accuracy\n",
        "    print(f\"MINMAX SCALING {i}: {scores.mean():.3%}, {scores.std():.3%}\")#get the mean and standard deviation of accuracy\n",
        "print(\" \")\n",
        "for j in models:\n",
        "    scores = cross_val_score(models[j], Xs3, y_New, cv=kf, n_jobs=-1) #get the accuracy\n",
        "    print(f\"STANDARD SCALING {j}: {scores.mean():.3%}, {scores.std():.3%}\")#get the mean and standard deviation of accuracy"
      ],
      "metadata": {
        "id": "kW-H4UFJW27D",
        "outputId": "a22c37be-9205-4315-c190-e6983629a4e9",
        "colab": {
          "base_uri": "https://localhost:8080/"
        }
      },
      "execution_count": 22,
      "outputs": [
        {
          "output_type": "stream",
          "name": "stdout",
          "text": [
            "ROBUST SCALING lgr: 81.001%, 2.695%\n",
            "ROBUST SCALING knn: 74.623%, 1.561%\n",
            "ROBUST SCALING gnb: 76.406%, 1.851%\n",
            "ROBUST SCALING svc: 78.532%, 3.063%\n",
            "ROBUST SCALING dtc: 77.709%, 1.192%\n",
            "ROBUST SCALING rfc: 85.460%, 1.962%\n",
            "ROBUST SCALING gbc: 84.842%, 1.180%\n",
            "ROBUST SCALING mlp: 83.745%, 2.098%\n",
            " \n",
            "MINMAX SCALING lgr: 73.045%, 1.268%\n",
            "MINMAX SCALING knn: 69.890%, 0.513%\n",
            "MINMAX SCALING gnb: 76.406%, 1.851%\n",
            "MINMAX SCALING svc: 74.143%, 1.588%\n",
            "MINMAX SCALING dtc: 76.955%, 1.770%\n",
            "MINMAX SCALING rfc: 85.802%, 2.184%\n",
            "MINMAX SCALING gbc: 84.705%, 1.399%\n",
            "MINMAX SCALING mlp: 76.132%, 0.935%\n",
            " \n",
            "STANDARD SCALING lgr: 78.601%, 2.310%\n",
            "STANDARD SCALING knn: 70.850%, 0.829%\n",
            "STANDARD SCALING gnb: 76.406%, 1.851%\n",
            "STANDARD SCALING svc: 75.446%, 1.765%\n",
            "STANDARD SCALING dtc: 78.395%, 1.908%\n",
            "STANDARD SCALING rfc: 86.008%, 1.817%\n",
            "STANDARD SCALING gbc: 84.842%, 1.272%\n",
            "STANDARD SCALING mlp: 79.492%, 2.025%\n"
          ]
        }
      ]
    }
  ]
}