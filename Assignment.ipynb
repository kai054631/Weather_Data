{
  "nbformat": 4,
  "nbformat_minor": 0,
  "metadata": {
    "colab": {
      "provenance": [],
      "include_colab_link": true
    },
    "kernelspec": {
      "name": "python3",
      "display_name": "Python 3"
    },
    "language_info": {
      "name": "python"
    }
  },
  "cells": [
    {
      "cell_type": "markdown",
      "metadata": {
        "id": "view-in-github",
        "colab_type": "text"
      },
      "source": [
        "<a href=\"https://colab.research.google.com/github/kai054631/Weather_Data/blob/main/Assignment.ipynb\" target=\"_parent\"><img src=\"https://colab.research.google.com/assets/colab-badge.svg\" alt=\"Open In Colab\"/></a>"
      ]
    },
    {
      "cell_type": "code",
      "execution_count": 168,
      "metadata": {
        "id": "0OnGl-Z2A0EW"
      },
      "outputs": [],
      "source": [
        "from pandas import read_csv\n",
        "from sklearn.model_selection import GridSearchCV,KFold, cross_val_score,train_test_split as split\n",
        "\n",
        "from sklearn.linear_model import LogisticRegression as LGR\n",
        "from sklearn.neighbors import KNeighborsClassifier as KNN\n",
        "from sklearn.tree import DecisionTreeClassifier as DTC\n",
        "from sklearn.ensemble import RandomForestClassifier as RFC\n",
        "from sklearn.ensemble import GradientBoostingClassifier as GBC\n",
        "from sklearn.naive_bayes import GaussianNB as GNB\n",
        "from sklearn.decomposition import PCA\n",
        "from sklearn.svm import SVC\n",
        "\n",
        "\n",
        "from sklearn.preprocessing import StandardScaler, MinMaxScaler, RobustScaler"
      ]
    },
    {
      "cell_type": "markdown",
      "source": [
        "Read dataset from github and show frist 5 rows"
      ],
      "metadata": {
        "id": "iqLGsPFLWOWP"
      }
    },
    {
      "cell_type": "code",
      "source": [
        "df = read_csv(\"https://raw.githubusercontent.com/Des282/Dataset/refs/heads/main/seattle-weather.csv\")#store and read\n",
        "df.head()"
      ],
      "metadata": {
        "colab": {
          "base_uri": "https://localhost:8080/",
          "height": 206
        },
        "id": "nDy1l7UUA4n4",
        "outputId": "f8b4fd35-5054-44cb-89ed-9567f9d302e4"
      },
      "execution_count": 169,
      "outputs": [
        {
          "output_type": "execute_result",
          "data": {
            "text/plain": [
              "         date  precipitation  temp_max  temp_min  wind  weather\n",
              "0  2012-01-01            0.0      12.8       5.0   4.7  drizzle\n",
              "1  2012-01-02           10.9      10.6       2.8   4.5     rain\n",
              "2  2012-01-03            0.8      11.7       7.2   2.3     rain\n",
              "3  2012-01-04           20.3      12.2       5.6   4.7     rain\n",
              "4  2012-01-05            1.3       8.9       2.8   6.1     rain"
            ],
            "text/html": [
              "\n",
              "  <div id=\"df-c7a4bf6b-f615-430d-bad4-b48d1f6813ec\" class=\"colab-df-container\">\n",
              "    <div>\n",
              "<style scoped>\n",
              "    .dataframe tbody tr th:only-of-type {\n",
              "        vertical-align: middle;\n",
              "    }\n",
              "\n",
              "    .dataframe tbody tr th {\n",
              "        vertical-align: top;\n",
              "    }\n",
              "\n",
              "    .dataframe thead th {\n",
              "        text-align: right;\n",
              "    }\n",
              "</style>\n",
              "<table border=\"1\" class=\"dataframe\">\n",
              "  <thead>\n",
              "    <tr style=\"text-align: right;\">\n",
              "      <th></th>\n",
              "      <th>date</th>\n",
              "      <th>precipitation</th>\n",
              "      <th>temp_max</th>\n",
              "      <th>temp_min</th>\n",
              "      <th>wind</th>\n",
              "      <th>weather</th>\n",
              "    </tr>\n",
              "  </thead>\n",
              "  <tbody>\n",
              "    <tr>\n",
              "      <th>0</th>\n",
              "      <td>2012-01-01</td>\n",
              "      <td>0.0</td>\n",
              "      <td>12.8</td>\n",
              "      <td>5.0</td>\n",
              "      <td>4.7</td>\n",
              "      <td>drizzle</td>\n",
              "    </tr>\n",
              "    <tr>\n",
              "      <th>1</th>\n",
              "      <td>2012-01-02</td>\n",
              "      <td>10.9</td>\n",
              "      <td>10.6</td>\n",
              "      <td>2.8</td>\n",
              "      <td>4.5</td>\n",
              "      <td>rain</td>\n",
              "    </tr>\n",
              "    <tr>\n",
              "      <th>2</th>\n",
              "      <td>2012-01-03</td>\n",
              "      <td>0.8</td>\n",
              "      <td>11.7</td>\n",
              "      <td>7.2</td>\n",
              "      <td>2.3</td>\n",
              "      <td>rain</td>\n",
              "    </tr>\n",
              "    <tr>\n",
              "      <th>3</th>\n",
              "      <td>2012-01-04</td>\n",
              "      <td>20.3</td>\n",
              "      <td>12.2</td>\n",
              "      <td>5.6</td>\n",
              "      <td>4.7</td>\n",
              "      <td>rain</td>\n",
              "    </tr>\n",
              "    <tr>\n",
              "      <th>4</th>\n",
              "      <td>2012-01-05</td>\n",
              "      <td>1.3</td>\n",
              "      <td>8.9</td>\n",
              "      <td>2.8</td>\n",
              "      <td>6.1</td>\n",
              "      <td>rain</td>\n",
              "    </tr>\n",
              "  </tbody>\n",
              "</table>\n",
              "</div>\n",
              "    <div class=\"colab-df-buttons\">\n",
              "\n",
              "  <div class=\"colab-df-container\">\n",
              "    <button class=\"colab-df-convert\" onclick=\"convertToInteractive('df-c7a4bf6b-f615-430d-bad4-b48d1f6813ec')\"\n",
              "            title=\"Convert this dataframe to an interactive table.\"\n",
              "            style=\"display:none;\">\n",
              "\n",
              "  <svg xmlns=\"http://www.w3.org/2000/svg\" height=\"24px\" viewBox=\"0 -960 960 960\">\n",
              "    <path d=\"M120-120v-720h720v720H120Zm60-500h600v-160H180v160Zm220 220h160v-160H400v160Zm0 220h160v-160H400v160ZM180-400h160v-160H180v160Zm440 0h160v-160H620v160ZM180-180h160v-160H180v160Zm440 0h160v-160H620v160Z\"/>\n",
              "  </svg>\n",
              "    </button>\n",
              "\n",
              "  <style>\n",
              "    .colab-df-container {\n",
              "      display:flex;\n",
              "      gap: 12px;\n",
              "    }\n",
              "\n",
              "    .colab-df-convert {\n",
              "      background-color: #E8F0FE;\n",
              "      border: none;\n",
              "      border-radius: 50%;\n",
              "      cursor: pointer;\n",
              "      display: none;\n",
              "      fill: #1967D2;\n",
              "      height: 32px;\n",
              "      padding: 0 0 0 0;\n",
              "      width: 32px;\n",
              "    }\n",
              "\n",
              "    .colab-df-convert:hover {\n",
              "      background-color: #E2EBFA;\n",
              "      box-shadow: 0px 1px 2px rgba(60, 64, 67, 0.3), 0px 1px 3px 1px rgba(60, 64, 67, 0.15);\n",
              "      fill: #174EA6;\n",
              "    }\n",
              "\n",
              "    .colab-df-buttons div {\n",
              "      margin-bottom: 4px;\n",
              "    }\n",
              "\n",
              "    [theme=dark] .colab-df-convert {\n",
              "      background-color: #3B4455;\n",
              "      fill: #D2E3FC;\n",
              "    }\n",
              "\n",
              "    [theme=dark] .colab-df-convert:hover {\n",
              "      background-color: #434B5C;\n",
              "      box-shadow: 0px 1px 3px 1px rgba(0, 0, 0, 0.15);\n",
              "      filter: drop-shadow(0px 1px 2px rgba(0, 0, 0, 0.3));\n",
              "      fill: #FFFFFF;\n",
              "    }\n",
              "  </style>\n",
              "\n",
              "    <script>\n",
              "      const buttonEl =\n",
              "        document.querySelector('#df-c7a4bf6b-f615-430d-bad4-b48d1f6813ec button.colab-df-convert');\n",
              "      buttonEl.style.display =\n",
              "        google.colab.kernel.accessAllowed ? 'block' : 'none';\n",
              "\n",
              "      async function convertToInteractive(key) {\n",
              "        const element = document.querySelector('#df-c7a4bf6b-f615-430d-bad4-b48d1f6813ec');\n",
              "        const dataTable =\n",
              "          await google.colab.kernel.invokeFunction('convertToInteractive',\n",
              "                                                    [key], {});\n",
              "        if (!dataTable) return;\n",
              "\n",
              "        const docLinkHtml = 'Like what you see? Visit the ' +\n",
              "          '<a target=\"_blank\" href=https://colab.research.google.com/notebooks/data_table.ipynb>data table notebook</a>'\n",
              "          + ' to learn more about interactive tables.';\n",
              "        element.innerHTML = '';\n",
              "        dataTable['output_type'] = 'display_data';\n",
              "        await google.colab.output.renderOutput(dataTable, element);\n",
              "        const docLink = document.createElement('div');\n",
              "        docLink.innerHTML = docLinkHtml;\n",
              "        element.appendChild(docLink);\n",
              "      }\n",
              "    </script>\n",
              "  </div>\n",
              "\n",
              "\n",
              "<div id=\"df-3d22d510-a421-4317-9ec6-30134e4f7dbc\">\n",
              "  <button class=\"colab-df-quickchart\" onclick=\"quickchart('df-3d22d510-a421-4317-9ec6-30134e4f7dbc')\"\n",
              "            title=\"Suggest charts\"\n",
              "            style=\"display:none;\">\n",
              "\n",
              "<svg xmlns=\"http://www.w3.org/2000/svg\" height=\"24px\"viewBox=\"0 0 24 24\"\n",
              "     width=\"24px\">\n",
              "    <g>\n",
              "        <path d=\"M19 3H5c-1.1 0-2 .9-2 2v14c0 1.1.9 2 2 2h14c1.1 0 2-.9 2-2V5c0-1.1-.9-2-2-2zM9 17H7v-7h2v7zm4 0h-2V7h2v10zm4 0h-2v-4h2v4z\"/>\n",
              "    </g>\n",
              "</svg>\n",
              "  </button>\n",
              "\n",
              "<style>\n",
              "  .colab-df-quickchart {\n",
              "      --bg-color: #E8F0FE;\n",
              "      --fill-color: #1967D2;\n",
              "      --hover-bg-color: #E2EBFA;\n",
              "      --hover-fill-color: #174EA6;\n",
              "      --disabled-fill-color: #AAA;\n",
              "      --disabled-bg-color: #DDD;\n",
              "  }\n",
              "\n",
              "  [theme=dark] .colab-df-quickchart {\n",
              "      --bg-color: #3B4455;\n",
              "      --fill-color: #D2E3FC;\n",
              "      --hover-bg-color: #434B5C;\n",
              "      --hover-fill-color: #FFFFFF;\n",
              "      --disabled-bg-color: #3B4455;\n",
              "      --disabled-fill-color: #666;\n",
              "  }\n",
              "\n",
              "  .colab-df-quickchart {\n",
              "    background-color: var(--bg-color);\n",
              "    border: none;\n",
              "    border-radius: 50%;\n",
              "    cursor: pointer;\n",
              "    display: none;\n",
              "    fill: var(--fill-color);\n",
              "    height: 32px;\n",
              "    padding: 0;\n",
              "    width: 32px;\n",
              "  }\n",
              "\n",
              "  .colab-df-quickchart:hover {\n",
              "    background-color: var(--hover-bg-color);\n",
              "    box-shadow: 0 1px 2px rgba(60, 64, 67, 0.3), 0 1px 3px 1px rgba(60, 64, 67, 0.15);\n",
              "    fill: var(--button-hover-fill-color);\n",
              "  }\n",
              "\n",
              "  .colab-df-quickchart-complete:disabled,\n",
              "  .colab-df-quickchart-complete:disabled:hover {\n",
              "    background-color: var(--disabled-bg-color);\n",
              "    fill: var(--disabled-fill-color);\n",
              "    box-shadow: none;\n",
              "  }\n",
              "\n",
              "  .colab-df-spinner {\n",
              "    border: 2px solid var(--fill-color);\n",
              "    border-color: transparent;\n",
              "    border-bottom-color: var(--fill-color);\n",
              "    animation:\n",
              "      spin 1s steps(1) infinite;\n",
              "  }\n",
              "\n",
              "  @keyframes spin {\n",
              "    0% {\n",
              "      border-color: transparent;\n",
              "      border-bottom-color: var(--fill-color);\n",
              "      border-left-color: var(--fill-color);\n",
              "    }\n",
              "    20% {\n",
              "      border-color: transparent;\n",
              "      border-left-color: var(--fill-color);\n",
              "      border-top-color: var(--fill-color);\n",
              "    }\n",
              "    30% {\n",
              "      border-color: transparent;\n",
              "      border-left-color: var(--fill-color);\n",
              "      border-top-color: var(--fill-color);\n",
              "      border-right-color: var(--fill-color);\n",
              "    }\n",
              "    40% {\n",
              "      border-color: transparent;\n",
              "      border-right-color: var(--fill-color);\n",
              "      border-top-color: var(--fill-color);\n",
              "    }\n",
              "    60% {\n",
              "      border-color: transparent;\n",
              "      border-right-color: var(--fill-color);\n",
              "    }\n",
              "    80% {\n",
              "      border-color: transparent;\n",
              "      border-right-color: var(--fill-color);\n",
              "      border-bottom-color: var(--fill-color);\n",
              "    }\n",
              "    90% {\n",
              "      border-color: transparent;\n",
              "      border-bottom-color: var(--fill-color);\n",
              "    }\n",
              "  }\n",
              "</style>\n",
              "\n",
              "  <script>\n",
              "    async function quickchart(key) {\n",
              "      const quickchartButtonEl =\n",
              "        document.querySelector('#' + key + ' button');\n",
              "      quickchartButtonEl.disabled = true;  // To prevent multiple clicks.\n",
              "      quickchartButtonEl.classList.add('colab-df-spinner');\n",
              "      try {\n",
              "        const charts = await google.colab.kernel.invokeFunction(\n",
              "            'suggestCharts', [key], {});\n",
              "      } catch (error) {\n",
              "        console.error('Error during call to suggestCharts:', error);\n",
              "      }\n",
              "      quickchartButtonEl.classList.remove('colab-df-spinner');\n",
              "      quickchartButtonEl.classList.add('colab-df-quickchart-complete');\n",
              "    }\n",
              "    (() => {\n",
              "      let quickchartButtonEl =\n",
              "        document.querySelector('#df-3d22d510-a421-4317-9ec6-30134e4f7dbc button');\n",
              "      quickchartButtonEl.style.display =\n",
              "        google.colab.kernel.accessAllowed ? 'block' : 'none';\n",
              "    })();\n",
              "  </script>\n",
              "</div>\n",
              "\n",
              "    </div>\n",
              "  </div>\n"
            ],
            "application/vnd.google.colaboratory.intrinsic+json": {
              "type": "dataframe",
              "variable_name": "df",
              "summary": "{\n  \"name\": \"df\",\n  \"rows\": 1461,\n  \"fields\": [\n    {\n      \"column\": \"date\",\n      \"properties\": {\n        \"dtype\": \"object\",\n        \"num_unique_values\": 1461,\n        \"samples\": [\n          \"2014-06-11\",\n          \"2015-01-10\",\n          \"2013-02-17\"\n        ],\n        \"semantic_type\": \"\",\n        \"description\": \"\"\n      }\n    },\n    {\n      \"column\": \"precipitation\",\n      \"properties\": {\n        \"dtype\": \"number\",\n        \"std\": 6.680194322314731,\n        \"min\": 0.0,\n        \"max\": 55.9,\n        \"num_unique_values\": 111,\n        \"samples\": [\n          43.4,\n          8.1,\n          1.3\n        ],\n        \"semantic_type\": \"\",\n        \"description\": \"\"\n      }\n    },\n    {\n      \"column\": \"temp_max\",\n      \"properties\": {\n        \"dtype\": \"number\",\n        \"std\": 7.349758097360185,\n        \"min\": -1.6,\n        \"max\": 35.6,\n        \"num_unique_values\": 67,\n        \"samples\": [\n          25.6,\n          8.3,\n          8.9\n        ],\n        \"semantic_type\": \"\",\n        \"description\": \"\"\n      }\n    },\n    {\n      \"column\": \"temp_min\",\n      \"properties\": {\n        \"dtype\": \"number\",\n        \"std\": 5.023004179961267,\n        \"min\": -7.1,\n        \"max\": 18.3,\n        \"num_unique_values\": 55,\n        \"samples\": [\n          13.3,\n          0.6,\n          14.4\n        ],\n        \"semantic_type\": \"\",\n        \"description\": \"\"\n      }\n    },\n    {\n      \"column\": \"wind\",\n      \"properties\": {\n        \"dtype\": \"number\",\n        \"std\": 1.4378250588746244,\n        \"min\": 0.4,\n        \"max\": 9.5,\n        \"num_unique_values\": 79,\n        \"samples\": [\n          8.1,\n          4.7,\n          2.6\n        ],\n        \"semantic_type\": \"\",\n        \"description\": \"\"\n      }\n    },\n    {\n      \"column\": \"weather\",\n      \"properties\": {\n        \"dtype\": \"category\",\n        \"num_unique_values\": 5,\n        \"samples\": [\n          \"rain\",\n          \"fog\",\n          \"sun\"\n        ],\n        \"semantic_type\": \"\",\n        \"description\": \"\"\n      }\n    }\n  ]\n}"
            }
          },
          "metadata": {},
          "execution_count": 169
        }
      ]
    },
    {
      "cell_type": "markdown",
      "source": [
        "check if any data is missing"
      ],
      "metadata": {
        "id": "EXBZsIxnWVB1"
      }
    },
    {
      "cell_type": "code",
      "source": [
        "df.isna().sum()"
      ],
      "metadata": {
        "colab": {
          "base_uri": "https://localhost:8080/",
          "height": 272
        },
        "id": "OYHqR8ogA449",
        "outputId": "7e6ccaef-f670-483e-fdfc-627e9af6a899"
      },
      "execution_count": 170,
      "outputs": [
        {
          "output_type": "execute_result",
          "data": {
            "text/plain": [
              "date             0\n",
              "precipitation    0\n",
              "temp_max         0\n",
              "temp_min         0\n",
              "wind             0\n",
              "weather          0\n",
              "dtype: int64"
            ],
            "text/html": [
              "<div>\n",
              "<style scoped>\n",
              "    .dataframe tbody tr th:only-of-type {\n",
              "        vertical-align: middle;\n",
              "    }\n",
              "\n",
              "    .dataframe tbody tr th {\n",
              "        vertical-align: top;\n",
              "    }\n",
              "\n",
              "    .dataframe thead th {\n",
              "        text-align: right;\n",
              "    }\n",
              "</style>\n",
              "<table border=\"1\" class=\"dataframe\">\n",
              "  <thead>\n",
              "    <tr style=\"text-align: right;\">\n",
              "      <th></th>\n",
              "      <th>0</th>\n",
              "    </tr>\n",
              "  </thead>\n",
              "  <tbody>\n",
              "    <tr>\n",
              "      <th>date</th>\n",
              "      <td>0</td>\n",
              "    </tr>\n",
              "    <tr>\n",
              "      <th>precipitation</th>\n",
              "      <td>0</td>\n",
              "    </tr>\n",
              "    <tr>\n",
              "      <th>temp_max</th>\n",
              "      <td>0</td>\n",
              "    </tr>\n",
              "    <tr>\n",
              "      <th>temp_min</th>\n",
              "      <td>0</td>\n",
              "    </tr>\n",
              "    <tr>\n",
              "      <th>wind</th>\n",
              "      <td>0</td>\n",
              "    </tr>\n",
              "    <tr>\n",
              "      <th>weather</th>\n",
              "      <td>0</td>\n",
              "    </tr>\n",
              "  </tbody>\n",
              "</table>\n",
              "</div><br><label><b>dtype:</b> int64</label>"
            ]
          },
          "metadata": {},
          "execution_count": 170
        }
      ]
    },
    {
      "cell_type": "markdown",
      "source": [
        "show the size of dataset"
      ],
      "metadata": {
        "id": "cpqXYOWDWYoq"
      }
    },
    {
      "cell_type": "code",
      "source": [
        "df.shape"
      ],
      "metadata": {
        "colab": {
          "base_uri": "https://localhost:8080/"
        },
        "id": "rUVx5ET0kbQV",
        "outputId": "40d20d99-2949-4cdc-840b-0c61aae5aa04"
      },
      "execution_count": 171,
      "outputs": [
        {
          "output_type": "execute_result",
          "data": {
            "text/plain": [
              "(1461, 6)"
            ]
          },
          "metadata": {},
          "execution_count": 171
        }
      ]
    },
    {
      "cell_type": "code",
      "source": [
        "df = df.drop(columns = [\"date\"])\n",
        "X = df.drop(columns=[\"weather\"])\n",
        "y = df[\"weather\"]"
      ],
      "metadata": {
        "id": "mJ09SiO-fUNl"
      },
      "execution_count": 172,
      "outputs": []
    },
    {
      "cell_type": "code",
      "source": [
        "X.shape"
      ],
      "metadata": {
        "colab": {
          "base_uri": "https://localhost:8080/"
        },
        "id": "JMwtQV4TnypU",
        "outputId": "2af5088b-43fa-4261-b081-8007e0b58ef3"
      },
      "execution_count": 173,
      "outputs": [
        {
          "output_type": "execute_result",
          "data": {
            "text/plain": [
              "(1461, 4)"
            ]
          },
          "metadata": {},
          "execution_count": 173
        }
      ]
    },
    {
      "cell_type": "markdown",
      "source": [
        "Train and evaluate at least five different machine learning algorithms, such as:\n",
        "\n",
        "• Linear Regression/Logistic Regression    \n",
        "• Decision Trees     \n",
        "• Random Forest    \n",
        "• Support Vector Machines (SVM)    \n",
        "• k-Nearest Neighbors (kNN)    \n",
        "• Gradient Boosting Trees   \n",
        "• Neural Networks   "
      ],
      "metadata": {
        "id": "AzgzSnrMWEK8"
      }
    },
    {
      "cell_type": "code",
      "source": [
        "X_train,X_test,y_train,y_test=split(X,y,test_size=0.25,random_state=25)"
      ],
      "metadata": {
        "id": "4ChSZZARPYBS"
      },
      "execution_count": 174,
      "outputs": []
    },
    {
      "cell_type": "code",
      "source": [
        "#Use spot-checking to quickly evaluate the performance of 8 machine learning algorithms\n",
        "models = {}\n",
        "models['lgr'] = LGR() #r2 score\n",
        "models['knn'] = KNN() #accuracy\n",
        "models['dtc'] = DTC() #accuracy\n",
        "models['rfc'] = RFC() #accuracy\n",
        "models['gbc'] = GBC() #accuracy\n",
        "models['gnb'] = GNB() #accuracy\n",
        "models['svc'] = SVC() #accuracy\n",
        "\n",
        "#before hyperparameter tuning\n",
        "kf = KFold(n_splits=5,shuffle=True,random_state=42) #set default n_splits = 5\n",
        "for n in models:\n",
        "  score=cross_val_score(models[n], X, y, cv=kf, n_jobs=-1)\n",
        "  print(f'{n}:{score.mean():.3%},  {score.std():.3%}')"
      ],
      "metadata": {
        "colab": {
          "base_uri": "https://localhost:8080/"
        },
        "id": "18nGeKr4Jv38",
        "outputId": "59c4d399-ed4a-42b7-8119-5c9e0c572f00"
      },
      "execution_count": 200,
      "outputs": [
        {
          "output_type": "stream",
          "name": "stdout",
          "text": [
            "lgr:84.600%,  1.306%\n",
            "knn:76.385%,  2.137%\n",
            "dtc:76.799%,  3.273%\n",
            "rfc:83.163%,  1.685%\n",
            "gbc:82.821%,  1.729%\n",
            "gnb:84.258%,  1.777%\n",
            "svc:77.687%,  1.344%\n"
          ]
        }
      ]
    },
    {
      "cell_type": "code",
      "source": [
        "Robust_scl = RobustScaler()#Feature Scaling with RobustScaler\n",
        "Xs1 = Robust_scl.fit_transform(X)\n",
        "\n",
        "MinMax_scl = MinMaxScaler()#Feature Scaling with MinMaxScaler\n",
        "Xs2 = MinMax_scl.fit_transform(X)\n",
        "\n",
        "Standard_scl = StandardScaler()#Feature Scaling with StandardScaler\n",
        "Xs3 = Standard_scl.fit_transform(X)"
      ],
      "metadata": {
        "id": "69ZDFEt0SJXE"
      },
      "execution_count": 201,
      "outputs": []
    },
    {
      "cell_type": "code",
      "source": [
        "print(f\"Feature Scaling with\")\n",
        "for n in models:\n",
        "    scores = cross_val_score(models[n], Xs1, y, cv=kf, n_jobs=-1) #get the accuracy\n",
        "    print(f\"ROBUST SCALING {n}: {scores.mean():.3%}, {scores.std():.3%}\")#get the mean and standard deviation of accuracy\n",
        "print(\" \")\n",
        "for i in models:\n",
        "    scores = cross_val_score(models[i], Xs2, y, cv=kf, n_jobs=-1) #get the accuracy\n",
        "    print(f\"MINMAX SCALING {i}: {scores.mean():.3%}, {scores.std():.3%}\")#get the mean and standard deviation of accuracy\n",
        "print(\" \")\n",
        "for j in models:\n",
        "    scores = cross_val_score(models[j], Xs3, y, cv=kf, n_jobs=-1) #get the accuracy\n",
        "    print(f\"STANDARD SCALING {j}: {scores.mean():.3%}, {scores.std():.3%}\")#get the mean and standard deviation of accuracy\n"
      ],
      "metadata": {
        "id": "4uSOVTDISWKr",
        "outputId": "b4072e92-01b5-46f8-cfa4-c17900b2fd2b",
        "colab": {
          "base_uri": "https://localhost:8080/"
        }
      },
      "execution_count": 202,
      "outputs": [
        {
          "output_type": "stream",
          "name": "stdout",
          "text": [
            "Feature Scaling with\n",
            "ROBUST SCALING lgr: 81.931%, 1.370%\n",
            "ROBUST SCALING knn: 78.097%, 1.249%\n",
            "ROBUST SCALING dtc: 76.661%, 2.516%\n",
            "ROBUST SCALING rfc: 83.027%, 1.538%\n",
            "ROBUST SCALING gbc: 82.821%, 1.729%\n",
            "ROBUST SCALING gnb: 84.258%, 1.777%\n",
            "ROBUST SCALING svc: 78.371%, 1.300%\n",
            " \n",
            "MINMAX SCALING lgr: 73.512%, 1.373%\n",
            "MINMAX SCALING knn: 70.430%, 1.923%\n",
            "MINMAX SCALING dtc: 76.182%, 3.116%\n",
            "MINMAX SCALING rfc: 83.026%, 1.498%\n",
            "MINMAX SCALING gbc: 82.821%, 1.729%\n",
            "MINMAX SCALING gnb: 84.258%, 1.777%\n",
            "MINMAX SCALING svc: 75.702%, 1.230%\n",
            " \n",
            "STANDARD SCALING lgr: 78.371%, 0.894%\n",
            "STANDARD SCALING knn: 72.415%, 1.430%\n",
            "STANDARD SCALING dtc: 75.977%, 2.783%\n",
            "STANDARD SCALING rfc: 82.958%, 1.653%\n",
            "STANDARD SCALING gbc: 82.752%, 1.649%\n",
            "STANDARD SCALING gnb: 84.258%, 1.777%\n",
            "STANDARD SCALING svc: 77.551%, 1.173%\n"
          ]
        }
      ]
    },
    {
      "cell_type": "code",
      "source": [
        "#Feature Addition method: create new features based on the existing features\n",
        "win_size = 4\n",
        "df['mean_precipitation'] = df['precipitation'].rolling(win_size).mean() #df['mean_temp_max'] = df['temp_max'].rolling(win_size).mean()\n",
        "df['mean_temp'] = df['temp_max'] + df['temp_min'] / 2 #df['mean_temp_min'] = df['temp_min'].rolling(win_size).mean()\n",
        "df['mean_wind'] = df['wind'].rolling(win_size).mean()\n",
        "\n",
        "print(df.shape)\n",
        "print(df.head(10))"
      ],
      "metadata": {
        "colab": {
          "base_uri": "https://localhost:8080/"
        },
        "id": "Db2-YfdgHv_0",
        "outputId": "625c2bab-5b5a-4232-8017-121de91c9a3c"
      },
      "execution_count": 203,
      "outputs": [
        {
          "output_type": "stream",
          "name": "stdout",
          "text": [
            "(1458, 8)\n",
            "    precipitation  temp_max  temp_min  wind weather  mean_precipitation  \\\n",
            "3            20.3      12.2       5.6   4.7    rain                 NaN   \n",
            "4             1.3       8.9       2.8   6.1    rain                 NaN   \n",
            "5             2.5       4.4       2.2   2.2    rain                 NaN   \n",
            "6             0.0       7.2       2.8   2.3    rain               6.025   \n",
            "7             0.0      10.0       2.8   2.0     sun               0.950   \n",
            "8             4.3       9.4       5.0   3.4    rain               1.700   \n",
            "9             1.0       6.1       0.6   3.4    rain               1.325   \n",
            "10            0.0       6.1      -1.1   5.1     sun               1.325   \n",
            "11            0.0       6.1      -1.7   1.9     sun               1.325   \n",
            "12            0.0       5.0      -2.8   1.3     sun               0.250   \n",
            "\n",
            "    mean_temp  mean_wind  \n",
            "3       15.00        NaN  \n",
            "4       10.30        NaN  \n",
            "5        5.50        NaN  \n",
            "6        8.60      3.825  \n",
            "7       11.40      3.150  \n",
            "8       11.90      2.475  \n",
            "9        6.40      2.775  \n",
            "10       5.55      3.475  \n",
            "11       5.25      3.450  \n",
            "12       3.60      2.925  \n"
          ]
        }
      ]
    },
    {
      "cell_type": "code",
      "source": [
        "df.isna().sum()"
      ],
      "metadata": {
        "id": "sEiiCgsTUcYY",
        "outputId": "436aaf42-8a55-4352-8534-ba9fedafcccc",
        "colab": {
          "base_uri": "https://localhost:8080/",
          "height": 335
        }
      },
      "execution_count": 204,
      "outputs": [
        {
          "output_type": "execute_result",
          "data": {
            "text/plain": [
              "precipitation         0\n",
              "temp_max              0\n",
              "temp_min              0\n",
              "wind                  0\n",
              "weather               0\n",
              "mean_precipitation    3\n",
              "mean_temp             0\n",
              "mean_wind             3\n",
              "dtype: int64"
            ],
            "text/html": [
              "<div>\n",
              "<style scoped>\n",
              "    .dataframe tbody tr th:only-of-type {\n",
              "        vertical-align: middle;\n",
              "    }\n",
              "\n",
              "    .dataframe tbody tr th {\n",
              "        vertical-align: top;\n",
              "    }\n",
              "\n",
              "    .dataframe thead th {\n",
              "        text-align: right;\n",
              "    }\n",
              "</style>\n",
              "<table border=\"1\" class=\"dataframe\">\n",
              "  <thead>\n",
              "    <tr style=\"text-align: right;\">\n",
              "      <th></th>\n",
              "      <th>0</th>\n",
              "    </tr>\n",
              "  </thead>\n",
              "  <tbody>\n",
              "    <tr>\n",
              "      <th>precipitation</th>\n",
              "      <td>0</td>\n",
              "    </tr>\n",
              "    <tr>\n",
              "      <th>temp_max</th>\n",
              "      <td>0</td>\n",
              "    </tr>\n",
              "    <tr>\n",
              "      <th>temp_min</th>\n",
              "      <td>0</td>\n",
              "    </tr>\n",
              "    <tr>\n",
              "      <th>wind</th>\n",
              "      <td>0</td>\n",
              "    </tr>\n",
              "    <tr>\n",
              "      <th>weather</th>\n",
              "      <td>0</td>\n",
              "    </tr>\n",
              "    <tr>\n",
              "      <th>mean_precipitation</th>\n",
              "      <td>3</td>\n",
              "    </tr>\n",
              "    <tr>\n",
              "      <th>mean_temp</th>\n",
              "      <td>0</td>\n",
              "    </tr>\n",
              "    <tr>\n",
              "      <th>mean_wind</th>\n",
              "      <td>3</td>\n",
              "    </tr>\n",
              "  </tbody>\n",
              "</table>\n",
              "</div><br><label><b>dtype:</b> int64</label>"
            ]
          },
          "metadata": {},
          "execution_count": 204
        }
      ]
    },
    {
      "cell_type": "code",
      "source": [
        "df = df.dropna() # the dropna() method that can be used to drop the missing data\n",
        "df.head()"
      ],
      "metadata": {
        "colab": {
          "base_uri": "https://localhost:8080/",
          "height": 206
        },
        "id": "CExhLyAFIqk-",
        "outputId": "f5da9bc7-8dda-44c9-de00-116f86a9c7a5"
      },
      "execution_count": 205,
      "outputs": [
        {
          "output_type": "execute_result",
          "data": {
            "text/plain": [
              "    precipitation  temp_max  temp_min  wind weather  mean_precipitation  \\\n",
              "6             0.0       7.2       2.8   2.3    rain               6.025   \n",
              "7             0.0      10.0       2.8   2.0     sun               0.950   \n",
              "8             4.3       9.4       5.0   3.4    rain               1.700   \n",
              "9             1.0       6.1       0.6   3.4    rain               1.325   \n",
              "10            0.0       6.1      -1.1   5.1     sun               1.325   \n",
              "\n",
              "    mean_temp  mean_wind  \n",
              "6        8.60      3.825  \n",
              "7       11.40      3.150  \n",
              "8       11.90      2.475  \n",
              "9        6.40      2.775  \n",
              "10       5.55      3.475  "
            ],
            "text/html": [
              "\n",
              "  <div id=\"df-e60ae8a8-4983-41f6-8a9f-ae2e139217ba\" class=\"colab-df-container\">\n",
              "    <div>\n",
              "<style scoped>\n",
              "    .dataframe tbody tr th:only-of-type {\n",
              "        vertical-align: middle;\n",
              "    }\n",
              "\n",
              "    .dataframe tbody tr th {\n",
              "        vertical-align: top;\n",
              "    }\n",
              "\n",
              "    .dataframe thead th {\n",
              "        text-align: right;\n",
              "    }\n",
              "</style>\n",
              "<table border=\"1\" class=\"dataframe\">\n",
              "  <thead>\n",
              "    <tr style=\"text-align: right;\">\n",
              "      <th></th>\n",
              "      <th>precipitation</th>\n",
              "      <th>temp_max</th>\n",
              "      <th>temp_min</th>\n",
              "      <th>wind</th>\n",
              "      <th>weather</th>\n",
              "      <th>mean_precipitation</th>\n",
              "      <th>mean_temp</th>\n",
              "      <th>mean_wind</th>\n",
              "    </tr>\n",
              "  </thead>\n",
              "  <tbody>\n",
              "    <tr>\n",
              "      <th>6</th>\n",
              "      <td>0.0</td>\n",
              "      <td>7.2</td>\n",
              "      <td>2.8</td>\n",
              "      <td>2.3</td>\n",
              "      <td>rain</td>\n",
              "      <td>6.025</td>\n",
              "      <td>8.60</td>\n",
              "      <td>3.825</td>\n",
              "    </tr>\n",
              "    <tr>\n",
              "      <th>7</th>\n",
              "      <td>0.0</td>\n",
              "      <td>10.0</td>\n",
              "      <td>2.8</td>\n",
              "      <td>2.0</td>\n",
              "      <td>sun</td>\n",
              "      <td>0.950</td>\n",
              "      <td>11.40</td>\n",
              "      <td>3.150</td>\n",
              "    </tr>\n",
              "    <tr>\n",
              "      <th>8</th>\n",
              "      <td>4.3</td>\n",
              "      <td>9.4</td>\n",
              "      <td>5.0</td>\n",
              "      <td>3.4</td>\n",
              "      <td>rain</td>\n",
              "      <td>1.700</td>\n",
              "      <td>11.90</td>\n",
              "      <td>2.475</td>\n",
              "    </tr>\n",
              "    <tr>\n",
              "      <th>9</th>\n",
              "      <td>1.0</td>\n",
              "      <td>6.1</td>\n",
              "      <td>0.6</td>\n",
              "      <td>3.4</td>\n",
              "      <td>rain</td>\n",
              "      <td>1.325</td>\n",
              "      <td>6.40</td>\n",
              "      <td>2.775</td>\n",
              "    </tr>\n",
              "    <tr>\n",
              "      <th>10</th>\n",
              "      <td>0.0</td>\n",
              "      <td>6.1</td>\n",
              "      <td>-1.1</td>\n",
              "      <td>5.1</td>\n",
              "      <td>sun</td>\n",
              "      <td>1.325</td>\n",
              "      <td>5.55</td>\n",
              "      <td>3.475</td>\n",
              "    </tr>\n",
              "  </tbody>\n",
              "</table>\n",
              "</div>\n",
              "    <div class=\"colab-df-buttons\">\n",
              "\n",
              "  <div class=\"colab-df-container\">\n",
              "    <button class=\"colab-df-convert\" onclick=\"convertToInteractive('df-e60ae8a8-4983-41f6-8a9f-ae2e139217ba')\"\n",
              "            title=\"Convert this dataframe to an interactive table.\"\n",
              "            style=\"display:none;\">\n",
              "\n",
              "  <svg xmlns=\"http://www.w3.org/2000/svg\" height=\"24px\" viewBox=\"0 -960 960 960\">\n",
              "    <path d=\"M120-120v-720h720v720H120Zm60-500h600v-160H180v160Zm220 220h160v-160H400v160Zm0 220h160v-160H400v160ZM180-400h160v-160H180v160Zm440 0h160v-160H620v160ZM180-180h160v-160H180v160Zm440 0h160v-160H620v160Z\"/>\n",
              "  </svg>\n",
              "    </button>\n",
              "\n",
              "  <style>\n",
              "    .colab-df-container {\n",
              "      display:flex;\n",
              "      gap: 12px;\n",
              "    }\n",
              "\n",
              "    .colab-df-convert {\n",
              "      background-color: #E8F0FE;\n",
              "      border: none;\n",
              "      border-radius: 50%;\n",
              "      cursor: pointer;\n",
              "      display: none;\n",
              "      fill: #1967D2;\n",
              "      height: 32px;\n",
              "      padding: 0 0 0 0;\n",
              "      width: 32px;\n",
              "    }\n",
              "\n",
              "    .colab-df-convert:hover {\n",
              "      background-color: #E2EBFA;\n",
              "      box-shadow: 0px 1px 2px rgba(60, 64, 67, 0.3), 0px 1px 3px 1px rgba(60, 64, 67, 0.15);\n",
              "      fill: #174EA6;\n",
              "    }\n",
              "\n",
              "    .colab-df-buttons div {\n",
              "      margin-bottom: 4px;\n",
              "    }\n",
              "\n",
              "    [theme=dark] .colab-df-convert {\n",
              "      background-color: #3B4455;\n",
              "      fill: #D2E3FC;\n",
              "    }\n",
              "\n",
              "    [theme=dark] .colab-df-convert:hover {\n",
              "      background-color: #434B5C;\n",
              "      box-shadow: 0px 1px 3px 1px rgba(0, 0, 0, 0.15);\n",
              "      filter: drop-shadow(0px 1px 2px rgba(0, 0, 0, 0.3));\n",
              "      fill: #FFFFFF;\n",
              "    }\n",
              "  </style>\n",
              "\n",
              "    <script>\n",
              "      const buttonEl =\n",
              "        document.querySelector('#df-e60ae8a8-4983-41f6-8a9f-ae2e139217ba button.colab-df-convert');\n",
              "      buttonEl.style.display =\n",
              "        google.colab.kernel.accessAllowed ? 'block' : 'none';\n",
              "\n",
              "      async function convertToInteractive(key) {\n",
              "        const element = document.querySelector('#df-e60ae8a8-4983-41f6-8a9f-ae2e139217ba');\n",
              "        const dataTable =\n",
              "          await google.colab.kernel.invokeFunction('convertToInteractive',\n",
              "                                                    [key], {});\n",
              "        if (!dataTable) return;\n",
              "\n",
              "        const docLinkHtml = 'Like what you see? Visit the ' +\n",
              "          '<a target=\"_blank\" href=https://colab.research.google.com/notebooks/data_table.ipynb>data table notebook</a>'\n",
              "          + ' to learn more about interactive tables.';\n",
              "        element.innerHTML = '';\n",
              "        dataTable['output_type'] = 'display_data';\n",
              "        await google.colab.output.renderOutput(dataTable, element);\n",
              "        const docLink = document.createElement('div');\n",
              "        docLink.innerHTML = docLinkHtml;\n",
              "        element.appendChild(docLink);\n",
              "      }\n",
              "    </script>\n",
              "  </div>\n",
              "\n",
              "\n",
              "<div id=\"df-24116417-6a8d-4c88-aea7-a066a9101f73\">\n",
              "  <button class=\"colab-df-quickchart\" onclick=\"quickchart('df-24116417-6a8d-4c88-aea7-a066a9101f73')\"\n",
              "            title=\"Suggest charts\"\n",
              "            style=\"display:none;\">\n",
              "\n",
              "<svg xmlns=\"http://www.w3.org/2000/svg\" height=\"24px\"viewBox=\"0 0 24 24\"\n",
              "     width=\"24px\">\n",
              "    <g>\n",
              "        <path d=\"M19 3H5c-1.1 0-2 .9-2 2v14c0 1.1.9 2 2 2h14c1.1 0 2-.9 2-2V5c0-1.1-.9-2-2-2zM9 17H7v-7h2v7zm4 0h-2V7h2v10zm4 0h-2v-4h2v4z\"/>\n",
              "    </g>\n",
              "</svg>\n",
              "  </button>\n",
              "\n",
              "<style>\n",
              "  .colab-df-quickchart {\n",
              "      --bg-color: #E8F0FE;\n",
              "      --fill-color: #1967D2;\n",
              "      --hover-bg-color: #E2EBFA;\n",
              "      --hover-fill-color: #174EA6;\n",
              "      --disabled-fill-color: #AAA;\n",
              "      --disabled-bg-color: #DDD;\n",
              "  }\n",
              "\n",
              "  [theme=dark] .colab-df-quickchart {\n",
              "      --bg-color: #3B4455;\n",
              "      --fill-color: #D2E3FC;\n",
              "      --hover-bg-color: #434B5C;\n",
              "      --hover-fill-color: #FFFFFF;\n",
              "      --disabled-bg-color: #3B4455;\n",
              "      --disabled-fill-color: #666;\n",
              "  }\n",
              "\n",
              "  .colab-df-quickchart {\n",
              "    background-color: var(--bg-color);\n",
              "    border: none;\n",
              "    border-radius: 50%;\n",
              "    cursor: pointer;\n",
              "    display: none;\n",
              "    fill: var(--fill-color);\n",
              "    height: 32px;\n",
              "    padding: 0;\n",
              "    width: 32px;\n",
              "  }\n",
              "\n",
              "  .colab-df-quickchart:hover {\n",
              "    background-color: var(--hover-bg-color);\n",
              "    box-shadow: 0 1px 2px rgba(60, 64, 67, 0.3), 0 1px 3px 1px rgba(60, 64, 67, 0.15);\n",
              "    fill: var(--button-hover-fill-color);\n",
              "  }\n",
              "\n",
              "  .colab-df-quickchart-complete:disabled,\n",
              "  .colab-df-quickchart-complete:disabled:hover {\n",
              "    background-color: var(--disabled-bg-color);\n",
              "    fill: var(--disabled-fill-color);\n",
              "    box-shadow: none;\n",
              "  }\n",
              "\n",
              "  .colab-df-spinner {\n",
              "    border: 2px solid var(--fill-color);\n",
              "    border-color: transparent;\n",
              "    border-bottom-color: var(--fill-color);\n",
              "    animation:\n",
              "      spin 1s steps(1) infinite;\n",
              "  }\n",
              "\n",
              "  @keyframes spin {\n",
              "    0% {\n",
              "      border-color: transparent;\n",
              "      border-bottom-color: var(--fill-color);\n",
              "      border-left-color: var(--fill-color);\n",
              "    }\n",
              "    20% {\n",
              "      border-color: transparent;\n",
              "      border-left-color: var(--fill-color);\n",
              "      border-top-color: var(--fill-color);\n",
              "    }\n",
              "    30% {\n",
              "      border-color: transparent;\n",
              "      border-left-color: var(--fill-color);\n",
              "      border-top-color: var(--fill-color);\n",
              "      border-right-color: var(--fill-color);\n",
              "    }\n",
              "    40% {\n",
              "      border-color: transparent;\n",
              "      border-right-color: var(--fill-color);\n",
              "      border-top-color: var(--fill-color);\n",
              "    }\n",
              "    60% {\n",
              "      border-color: transparent;\n",
              "      border-right-color: var(--fill-color);\n",
              "    }\n",
              "    80% {\n",
              "      border-color: transparent;\n",
              "      border-right-color: var(--fill-color);\n",
              "      border-bottom-color: var(--fill-color);\n",
              "    }\n",
              "    90% {\n",
              "      border-color: transparent;\n",
              "      border-bottom-color: var(--fill-color);\n",
              "    }\n",
              "  }\n",
              "</style>\n",
              "\n",
              "  <script>\n",
              "    async function quickchart(key) {\n",
              "      const quickchartButtonEl =\n",
              "        document.querySelector('#' + key + ' button');\n",
              "      quickchartButtonEl.disabled = true;  // To prevent multiple clicks.\n",
              "      quickchartButtonEl.classList.add('colab-df-spinner');\n",
              "      try {\n",
              "        const charts = await google.colab.kernel.invokeFunction(\n",
              "            'suggestCharts', [key], {});\n",
              "      } catch (error) {\n",
              "        console.error('Error during call to suggestCharts:', error);\n",
              "      }\n",
              "      quickchartButtonEl.classList.remove('colab-df-spinner');\n",
              "      quickchartButtonEl.classList.add('colab-df-quickchart-complete');\n",
              "    }\n",
              "    (() => {\n",
              "      let quickchartButtonEl =\n",
              "        document.querySelector('#df-24116417-6a8d-4c88-aea7-a066a9101f73 button');\n",
              "      quickchartButtonEl.style.display =\n",
              "        google.colab.kernel.accessAllowed ? 'block' : 'none';\n",
              "    })();\n",
              "  </script>\n",
              "</div>\n",
              "\n",
              "    </div>\n",
              "  </div>\n"
            ],
            "application/vnd.google.colaboratory.intrinsic+json": {
              "type": "dataframe",
              "variable_name": "df",
              "summary": "{\n  \"name\": \"df\",\n  \"rows\": 1455,\n  \"fields\": [\n    {\n      \"column\": \"precipitation\",\n      \"properties\": {\n        \"dtype\": \"number\",\n        \"std\": 6.6745242089362415,\n        \"min\": 0.0,\n        \"max\": 55.9,\n        \"num_unique_values\": 111,\n        \"samples\": [\n          16.8,\n          3.0,\n          5.3\n        ],\n        \"semantic_type\": \"\",\n        \"description\": \"\"\n      }\n    },\n    {\n      \"column\": \"temp_max\",\n      \"properties\": {\n        \"dtype\": \"number\",\n        \"std\": 7.351328857519095,\n        \"min\": -1.6,\n        \"max\": 35.6,\n        \"num_unique_values\": 67,\n        \"samples\": [\n          25.6,\n          13.9,\n          5.0\n        ],\n        \"semantic_type\": \"\",\n        \"description\": \"\"\n      }\n    },\n    {\n      \"column\": \"temp_min\",\n      \"properties\": {\n        \"dtype\": \"number\",\n        \"std\": 5.025538330185233,\n        \"min\": -7.1,\n        \"max\": 18.3,\n        \"num_unique_values\": 55,\n        \"samples\": [\n          13.3,\n          -2.8,\n          14.4\n        ],\n        \"semantic_type\": \"\",\n        \"description\": \"\"\n      }\n    },\n    {\n      \"column\": \"wind\",\n      \"properties\": {\n        \"dtype\": \"number\",\n        \"std\": 1.4369643742210436,\n        \"min\": 0.4,\n        \"max\": 9.5,\n        \"num_unique_values\": 79,\n        \"samples\": [\n          7.5,\n          2.3,\n          2.9\n        ],\n        \"semantic_type\": \"\",\n        \"description\": \"\"\n      }\n    },\n    {\n      \"column\": \"weather\",\n      \"properties\": {\n        \"dtype\": \"category\",\n        \"num_unique_values\": 5,\n        \"samples\": [\n          \"sun\",\n          \"fog\",\n          \"snow\"\n        ],\n        \"semantic_type\": \"\",\n        \"description\": \"\"\n      }\n    },\n    {\n      \"column\": \"mean_precipitation\",\n      \"properties\": {\n        \"dtype\": \"number\",\n        \"std\": 4.390477287526616,\n        \"min\": 0.0,\n        \"max\": 28.249999999999993,\n        \"num_unique_values\": 670,\n        \"samples\": [\n          0.5249999999999929,\n          17.399999999999995,\n          2.6249999999999947\n        ],\n        \"semantic_type\": \"\",\n        \"description\": \"\"\n      }\n    },\n    {\n      \"column\": \"mean_temp\",\n      \"properties\": {\n        \"dtype\": \"number\",\n        \"std\": 9.627999866243853,\n        \"min\": -4.6,\n        \"max\": 44.5,\n        \"num_unique_values\": 446,\n        \"samples\": [\n          29.15,\n          36.9,\n          20.55\n        ],\n        \"semantic_type\": \"\",\n        \"description\": \"\"\n      }\n    },\n    {\n      \"column\": \"mean_wind\",\n      \"properties\": {\n        \"dtype\": \"number\",\n        \"std\": 0.9805704289894909,\n        \"min\": 0.8749999999999996,\n        \"max\": 7.75,\n        \"num_unique_values\": 486,\n        \"samples\": [\n          3.9999999999999996,\n          3.0249999999999995,\n          2.599999999999999\n        ],\n        \"semantic_type\": \"\",\n        \"description\": \"\"\n      }\n    }\n  ]\n}"
            }
          },
          "metadata": {},
          "execution_count": 205
        }
      ]
    },
    {
      "cell_type": "code",
      "source": [
        "X_New = df.drop(columns=[\"weather\"])\n",
        "y_New = df[\"weather\"]\n",
        "\n",
        "Xs1 = Robust_scl.fit_transform(X_New)\n",
        "Xs2 = MinMax_scl.fit_transform(X_New)\n",
        "Xs3 = Standard_scl.fit_transform(X_New)"
      ],
      "metadata": {
        "id": "rE542ttrJTX0"
      },
      "execution_count": 206,
      "outputs": []
    },
    {
      "cell_type": "code",
      "source": [
        "print(X_New.shape)\n",
        "print(y_New.shape)"
      ],
      "metadata": {
        "colab": {
          "base_uri": "https://localhost:8080/"
        },
        "id": "Fs6EVkHPKq_D",
        "outputId": "6313e56d-09df-4960-8151-4315291886d9"
      },
      "execution_count": 207,
      "outputs": [
        {
          "output_type": "stream",
          "name": "stdout",
          "text": [
            "(1455, 7)\n",
            "(1455,)\n"
          ]
        }
      ]
    },
    {
      "cell_type": "code",
      "source": [
        "print(f\"create new features based on the existing features\")\n",
        "\n",
        "for n in models:\n",
        "    scores = cross_val_score(models[n], Xs1, y_New, cv=kf, n_jobs=-1) #get the accuracy\n",
        "    print(f\"ROBUST SCALING {n}: {scores.mean():.3%}, {scores.std():.3%}\")#get the mean and standard deviation of accuracy\n",
        "print(\" \")\n",
        "for i in models:\n",
        "    scores = cross_val_score(models[i], Xs2, y_New, cv=kf, n_jobs=-1) #get the accuracy\n",
        "    print(f\"MINMAX SCALING {i}: {scores.mean():.3%}, {scores.std():.3%}\")#get the mean and standard deviation of accuracy\n",
        "print(\" \")\n",
        "for j in models:\n",
        "    scores = cross_val_score(models[j], Xs3, y_New, cv=kf, n_jobs=-1) #get the accuracy\n",
        "    print(f\"STANDARD SCALING {j}: {scores.mean():.3%}, {scores.std():.3%}\")#get the mean and standard deviation of accuracy"
      ],
      "metadata": {
        "colab": {
          "base_uri": "https://localhost:8080/"
        },
        "id": "CNrkpmA7LAFy",
        "outputId": "b81061fa-5720-4468-f228-35f503df4260"
      },
      "execution_count": 208,
      "outputs": [
        {
          "output_type": "stream",
          "name": "stdout",
          "text": [
            "create new features based on the existing features\n",
            "ROBUST SCALING lgr: 81.168%, 1.528%\n",
            "ROBUST SCALING knn: 74.296%, 0.825%\n",
            "ROBUST SCALING dtc: 76.701%, 3.115%\n",
            "ROBUST SCALING rfc: 85.292%, 1.703%\n",
            "ROBUST SCALING gbc: 84.055%, 2.347%\n",
            "ROBUST SCALING gnb: 80.825%, 2.510%\n",
            "ROBUST SCALING svc: 78.419%, 0.825%\n",
            " \n",
            "MINMAX SCALING lgr: 73.127%, 2.167%\n",
            "MINMAX SCALING knn: 70.859%, 1.329%\n",
            "MINMAX SCALING dtc: 77.938%, 3.145%\n",
            "MINMAX SCALING rfc: 85.636%, 1.824%\n",
            "MINMAX SCALING gbc: 84.192%, 1.895%\n",
            "MINMAX SCALING gnb: 80.756%, 2.430%\n",
            "MINMAX SCALING svc: 74.708%, 1.546%\n",
            " \n",
            "STANDARD SCALING lgr: 78.282%, 0.957%\n",
            "STANDARD SCALING knn: 70.103%, 1.229%\n",
            "STANDARD SCALING dtc: 77.526%, 2.512%\n",
            "STANDARD SCALING rfc: 85.361%, 1.852%\n",
            "STANDARD SCALING gbc: 84.261%, 2.178%\n",
            "STANDARD SCALING gnb: 80.825%, 2.510%\n",
            "STANDARD SCALING svc: 76.220%, 0.907%\n"
          ]
        }
      ]
    },
    {
      "cell_type": "code",
      "source": [
        "#check with\n",
        "#Hyperparameter tuning for Lgr\n",
        "lgr= LGR().fit(X_train, y_train)\n",
        "print(f'R2 score of LGR: {lgr.score(X_test, y_test):.3%}')\n",
        "print(\" \")\n",
        "models = {}\n",
        "\n",
        "#Hyperparameter tuning for KNN\n",
        "for i in range(1,11,2):\n",
        "  knn= KNN(n_neighbors=i).fit(X_train, y_train)\n",
        "  #scores= cross_val_score(knn_scores, X, y, cv=kf, n_jobs=-1)\n",
        "  score=knn.score(X_test,y_test)\n",
        "  print(f\"Accuracy of KNN with neighbors={i}: {score:.3%}\")\n",
        "  y_pred = lgr.predict(X_test)\n",
        "print(\" \")\n",
        "\n",
        "#Hyperparameter tuning for GNB\n",
        "gnb = GNB().fit(X_train, y_train)\n",
        "print(f'Accuracy of GNB: {gnb.score(X_test, y_test):.3%}')\n",
        "print(\" \")\n",
        "\n",
        "#Hyperparameter tuning for SVC\n",
        "for i in range(0,11,2):\n",
        "  svc = SVC(kernel='rbf', C=1, gamma=i/10).fit(X_train, y_train)\n",
        "  print(f\"Accuracy of SVC with gamma={i/10}: {svc.score(X_test,y_test):.3%}\")\n",
        "print(\" \")\n",
        "\n",
        "#Hyperparameter tuning for DTC\n",
        "for i in range(1,11,2):\n",
        "  dtc = DTC(max_depth=i,random_state=42).fit(X_train, y_train)\n",
        "  print(f'Accuracy of DTC with Max Depth={i}: {dtc.score(X_test, y_test):.2%}')\n",
        "print(\" \")\n",
        "\n",
        "#Hyperparameter tuning for RFC\n",
        "for i in range(1,11,2):\n",
        "  rfc = RFC(max_depth=i, random_state=42).fit(X_train, y_train)\n",
        "  print(f'Accuracy of RFC with Max Depth={i}: {rfc.score(X_test, y_test):.2%}')\n",
        "print(\" \")\n",
        "\n",
        "#Hyperparameter tuning for GBC\n",
        "for i in range(1,11,2):\n",
        "  gbc= GBC(max_depth=i, random_state=42).fit(X_train, y_train)\n",
        "  print(f'Accuracy of GBC with Max Depth={i}: {100 * gbc.score(X_test, y_test):.2f} %')\n",
        "print(\" \")\n"
      ],
      "metadata": {
        "id": "Eb60uHcVZoYq",
        "colab": {
          "base_uri": "https://localhost:8080/"
        },
        "outputId": "d0bc12af-45f8-4a6c-9889-927b7984d09d"
      },
      "execution_count": 209,
      "outputs": [
        {
          "output_type": "stream",
          "name": "stdout",
          "text": [
            "R2 score of LGR: 83.333%\n",
            " \n",
            "Accuracy of KNN with neighbors=1: 71.585%\n",
            "Accuracy of KNN with neighbors=3: 74.317%\n",
            "Accuracy of KNN with neighbors=5: 74.044%\n",
            "Accuracy of KNN with neighbors=7: 76.230%\n"
          ]
        },
        {
          "output_type": "stream",
          "name": "stderr",
          "text": [
            "/usr/local/lib/python3.11/dist-packages/sklearn/linear_model/_logistic.py:465: ConvergenceWarning: lbfgs failed to converge (status=1):\n",
            "STOP: TOTAL NO. of ITERATIONS REACHED LIMIT.\n",
            "\n",
            "Increase the number of iterations (max_iter) or scale the data as shown in:\n",
            "    https://scikit-learn.org/stable/modules/preprocessing.html\n",
            "Please also refer to the documentation for alternative solver options:\n",
            "    https://scikit-learn.org/stable/modules/linear_model.html#logistic-regression\n",
            "  n_iter_i = _check_optimize_result(\n"
          ]
        },
        {
          "output_type": "stream",
          "name": "stdout",
          "text": [
            "Accuracy of KNN with neighbors=9: 75.956%\n",
            " \n",
            "Accuracy of GNB: 84.153%\n",
            " \n",
            "Accuracy of SVC with gamma=0.0: 43.443%\n",
            "Accuracy of SVC with gamma=0.2: 78.962%\n",
            "Accuracy of SVC with gamma=0.4: 77.596%\n",
            "Accuracy of SVC with gamma=0.6: 76.503%\n",
            "Accuracy of SVC with gamma=0.8: 74.317%\n",
            "Accuracy of SVC with gamma=1.0: 74.044%\n",
            " \n",
            "Accuracy of DTC with Max Depth=1: 84.43%\n",
            "Accuracy of DTC with Max Depth=3: 85.52%\n",
            "Accuracy of DTC with Max Depth=5: 82.79%\n",
            "Accuracy of DTC with Max Depth=7: 83.06%\n",
            "Accuracy of DTC with Max Depth=9: 80.05%\n",
            " \n",
            "Accuracy of RFC with Max Depth=1: 84.43%\n",
            "Accuracy of RFC with Max Depth=3: 85.79%\n",
            "Accuracy of RFC with Max Depth=5: 85.52%\n",
            "Accuracy of RFC with Max Depth=7: 85.52%\n",
            "Accuracy of RFC with Max Depth=9: 84.70%\n",
            " \n",
            "Accuracy of GBC with Max Depth=1: 84.97 %\n",
            "Accuracy of GBC with Max Depth=3: 82.79 %\n",
            "Accuracy of GBC with Max Depth=5: 82.24 %\n",
            "Accuracy of GBC with Max Depth=7: 81.15 %\n",
            "Accuracy of GBC with Max Depth=9: 81.15 %\n",
            " \n"
          ]
        }
      ]
    },
    {
      "cell_type": "code",
      "source": [
        "#after hyper parameter tuning\n",
        "models_new = {}\n",
        "models_new['lgr'] = LGR() #r2 score\n",
        "models_new['knn'] = KNN(n_neighbors=7) #accuracy\n",
        "models_new['dtc'] = DTC(max_depth=3,random_state=42) #accuracy\n",
        "models_new['rfc'] = RFC(max_depth=3,random_state=42) #accuracy\n",
        "models_new['gbc'] = GBC(max_depth=1,random_state=42) #accuracy\n",
        "models_new['gnb'] = GNB()\n",
        "models_new['svc'] = SVC(kernel='rbf', C=1, gamma=0.2)\n",
        "kf = KFold(n_splits=3,shuffle=True,random_state=42)\n",
        "for n in models_new:\n",
        "  score=cross_val_score(models_new[n], Xs1, y_New, cv=kf, n_jobs=-1)\n",
        "  print(f'{n}:{score.mean():.3%},  {score.std():.3%}')"
      ],
      "metadata": {
        "id": "W4IFJtt2A52w",
        "outputId": "7a916e40-a84c-4c83-e86e-dac400e7201d",
        "colab": {
          "base_uri": "https://localhost:8080/"
        }
      },
      "execution_count": 210,
      "outputs": [
        {
          "output_type": "stream",
          "name": "stdout",
          "text": [
            "lgr:80.962%,  1.218%\n",
            "knn:76.564%,  1.095%\n",
            "dtc:85.017%,  0.830%\n",
            "rfc:85.017%,  1.121%\n",
            "gbc:84.674%,  1.121%\n",
            "gnb:80.825%,  1.347%\n",
            "svc:78.694%,  0.591%\n"
          ]
        }
      ]
    },
    {
      "cell_type": "code",
      "source": [
        "\n",
        "for n in models_new:\n",
        "  kf = KFold(n_splits=10,shuffle=True,random_state=42)\n",
        "  score=cross_val_score(models_new[n], Xs1, y_New, cv=kf, n_jobs=-1)\n",
        "  print(f'{n}:{score.mean():.3%},  {score.std():.3%}')"
      ],
      "metadata": {
        "id": "j-zoZGF2f1xx",
        "outputId": "5d336b64-2bc8-4311-88cc-330455b42588",
        "colab": {
          "base_uri": "https://localhost:8080/"
        }
      },
      "execution_count": 213,
      "outputs": [
        {
          "output_type": "stream",
          "name": "stdout",
          "text": [
            "lgr:81.853%,  2.128%\n",
            "knn:76.905%,  2.627%\n",
            "dtc:84.806%,  2.547%\n",
            "rfc:84.944%,  2.371%\n",
            "gbc:84.944%,  2.448%\n",
            "gnb:81.374%,  2.790%\n",
            "svc:79.104%,  1.567%\n"
          ]
        }
      ]
    },
    {
      "cell_type": "code",
      "source": [
        "for n in models_new:\n",
        "  kf = KFold(n_splits=5,shuffle=True,random_state=42)\n",
        "  score=cross_val_score(models_new[n], Xs1, y_New, cv=kf, n_jobs=-1)\n",
        "  print(f'{n}:{score.mean():.3%},  {score.std():.3%}')"
      ],
      "metadata": {
        "id": "xkp9fbCCiUEp",
        "outputId": "2d16e422-e20f-41ab-8f70-539428bf95ad",
        "colab": {
          "base_uri": "https://localhost:8080/"
        }
      },
      "execution_count": 214,
      "outputs": [
        {
          "output_type": "stream",
          "name": "stdout",
          "text": [
            "lgr:81.168%,  1.528%\n",
            "knn:75.670%,  1.095%\n",
            "dtc:85.086%,  2.136%\n",
            "rfc:84.948%,  2.335%\n",
            "gbc:85.086%,  2.658%\n",
            "gnb:80.825%,  2.510%\n",
            "svc:79.038%,  0.896%\n"
          ]
        }
      ]
    }
  ]
}